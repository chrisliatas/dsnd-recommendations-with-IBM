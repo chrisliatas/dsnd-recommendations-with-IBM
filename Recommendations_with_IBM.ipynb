{
 "cells": [
  {
   "cell_type": "markdown",
   "source": [
    "# Recommendations with IBM\n",
    "\n",
    "In this notebook, you will be putting your recommendation skills to use on real data from the IBM Watson Studio platform. \n",
    "\n",
    "\n",
    "You may either submit your notebook through the workspace here, or you may work from your local machine and submit through the next page.  Either way assure that your code passes the project [RUBRIC](Need to update this).  **Please save regularly.**\n",
    "\n",
    "By following the table of contents, you will build out a number of different methods for making recommendations that can be used for different situations. \n",
    "\n",
    "\n",
    "## Table of Contents\n",
    "\n",
    "I. [Exploratory Data Analysis](#Exploratory-Data-Analysis)<br>\n",
    "II. [Rank Based Recommendations](#Rank)<br>\n",
    "III. [User-User Based Collaborative Filtering](#User-User)<br>\n",
    "IV. [Content Based Recommendations (EXTRA - NOT REQUIRED)](#Content-Recs)<br>\n",
    "V. [Matrix Factorization](#Matrix-Fact)<br>\n",
    "VI. [Extras & Concluding](#conclusions)\n",
    "\n",
    "At the end of the notebook, you will find directions for how to submit your work.  Let's get started by importing the necessary libraries and reading in the data."
   ],
   "metadata": {}
  },
  {
   "cell_type": "code",
   "execution_count": 1,
   "source": [
    "import pandas as pd\r\n",
    "import numpy as np\r\n",
    "import matplotlib.pyplot as plt\r\n",
    "import project_tests as t\r\n",
    "\r\n",
    "%matplotlib inline\r\n",
    "\r\n",
    "df = pd.read_csv('data/user-item-interactions.csv')\r\n",
    "df_content = pd.read_csv('data/articles_community.csv')\r\n",
    "del df['Unnamed: 0']\r\n",
    "del df_content['Unnamed: 0']\r\n",
    "\r\n",
    "# Show df to get an idea of the data\r\n",
    "df.head()"
   ],
   "outputs": [
    {
     "output_type": "execute_result",
     "data": {
      "text/html": [
       "<div>\n",
       "<style scoped>\n",
       "    .dataframe tbody tr th:only-of-type {\n",
       "        vertical-align: middle;\n",
       "    }\n",
       "\n",
       "    .dataframe tbody tr th {\n",
       "        vertical-align: top;\n",
       "    }\n",
       "\n",
       "    .dataframe thead th {\n",
       "        text-align: right;\n",
       "    }\n",
       "</style>\n",
       "<table border=\"1\" class=\"dataframe\">\n",
       "  <thead>\n",
       "    <tr style=\"text-align: right;\">\n",
       "      <th></th>\n",
       "      <th>article_id</th>\n",
       "      <th>title</th>\n",
       "      <th>email</th>\n",
       "    </tr>\n",
       "  </thead>\n",
       "  <tbody>\n",
       "    <tr>\n",
       "      <th>0</th>\n",
       "      <td>1430.0</td>\n",
       "      <td>using pixiedust for fast, flexible, and easier...</td>\n",
       "      <td>ef5f11f77ba020cd36e1105a00ab868bbdbf7fe7</td>\n",
       "    </tr>\n",
       "    <tr>\n",
       "      <th>1</th>\n",
       "      <td>1314.0</td>\n",
       "      <td>healthcare python streaming application demo</td>\n",
       "      <td>083cbdfa93c8444beaa4c5f5e0f5f9198e4f9e0b</td>\n",
       "    </tr>\n",
       "    <tr>\n",
       "      <th>2</th>\n",
       "      <td>1429.0</td>\n",
       "      <td>use deep learning for image classification</td>\n",
       "      <td>b96a4f2e92d8572034b1e9b28f9ac673765cd074</td>\n",
       "    </tr>\n",
       "    <tr>\n",
       "      <th>3</th>\n",
       "      <td>1338.0</td>\n",
       "      <td>ml optimization using cognitive assistant</td>\n",
       "      <td>06485706b34a5c9bf2a0ecdac41daf7e7654ceb7</td>\n",
       "    </tr>\n",
       "    <tr>\n",
       "      <th>4</th>\n",
       "      <td>1276.0</td>\n",
       "      <td>deploy your python model as a restful api</td>\n",
       "      <td>f01220c46fc92c6e6b161b1849de11faacd7ccb2</td>\n",
       "    </tr>\n",
       "  </tbody>\n",
       "</table>\n",
       "</div>"
      ],
      "text/plain": [
       "   article_id                                              title  \\\n",
       "0      1430.0  using pixiedust for fast, flexible, and easier...   \n",
       "1      1314.0       healthcare python streaming application demo   \n",
       "2      1429.0         use deep learning for image classification   \n",
       "3      1338.0          ml optimization using cognitive assistant   \n",
       "4      1276.0          deploy your python model as a restful api   \n",
       "\n",
       "                                      email  \n",
       "0  ef5f11f77ba020cd36e1105a00ab868bbdbf7fe7  \n",
       "1  083cbdfa93c8444beaa4c5f5e0f5f9198e4f9e0b  \n",
       "2  b96a4f2e92d8572034b1e9b28f9ac673765cd074  \n",
       "3  06485706b34a5c9bf2a0ecdac41daf7e7654ceb7  \n",
       "4  f01220c46fc92c6e6b161b1849de11faacd7ccb2  "
      ]
     },
     "metadata": {},
     "execution_count": 1
    }
   ],
   "metadata": {
    "collapsed": true
   }
  },
  {
   "cell_type": "code",
   "execution_count": 2,
   "source": [
    "# Show df_content to get an idea of the data\r\n",
    "df_content.head()"
   ],
   "outputs": [
    {
     "output_type": "execute_result",
     "data": {
      "text/html": [
       "<div>\n",
       "<style scoped>\n",
       "    .dataframe tbody tr th:only-of-type {\n",
       "        vertical-align: middle;\n",
       "    }\n",
       "\n",
       "    .dataframe tbody tr th {\n",
       "        vertical-align: top;\n",
       "    }\n",
       "\n",
       "    .dataframe thead th {\n",
       "        text-align: right;\n",
       "    }\n",
       "</style>\n",
       "<table border=\"1\" class=\"dataframe\">\n",
       "  <thead>\n",
       "    <tr style=\"text-align: right;\">\n",
       "      <th></th>\n",
       "      <th>doc_body</th>\n",
       "      <th>doc_description</th>\n",
       "      <th>doc_full_name</th>\n",
       "      <th>doc_status</th>\n",
       "      <th>article_id</th>\n",
       "    </tr>\n",
       "  </thead>\n",
       "  <tbody>\n",
       "    <tr>\n",
       "      <th>0</th>\n",
       "      <td>Skip navigation Sign in SearchLoading...\\r\\n\\r...</td>\n",
       "      <td>Detect bad readings in real time using Python ...</td>\n",
       "      <td>Detect Malfunctioning IoT Sensors with Streami...</td>\n",
       "      <td>Live</td>\n",
       "      <td>0</td>\n",
       "    </tr>\n",
       "    <tr>\n",
       "      <th>1</th>\n",
       "      <td>No Free Hunch Navigation * kaggle.com\\r\\n\\r\\n ...</td>\n",
       "      <td>See the forest, see the trees. Here lies the c...</td>\n",
       "      <td>Communicating data science: A guide to present...</td>\n",
       "      <td>Live</td>\n",
       "      <td>1</td>\n",
       "    </tr>\n",
       "    <tr>\n",
       "      <th>2</th>\n",
       "      <td>☰ * Login\\r\\n * Sign Up\\r\\n\\r\\n * Learning Pat...</td>\n",
       "      <td>Here’s this week’s news in Data Science and Bi...</td>\n",
       "      <td>This Week in Data Science (April 18, 2017)</td>\n",
       "      <td>Live</td>\n",
       "      <td>2</td>\n",
       "    </tr>\n",
       "    <tr>\n",
       "      <th>3</th>\n",
       "      <td>DATALAYER: HIGH THROUGHPUT, LOW LATENCY AT SCA...</td>\n",
       "      <td>Learn how distributed DBs solve the problem of...</td>\n",
       "      <td>DataLayer Conference: Boost the performance of...</td>\n",
       "      <td>Live</td>\n",
       "      <td>3</td>\n",
       "    </tr>\n",
       "    <tr>\n",
       "      <th>4</th>\n",
       "      <td>Skip navigation Sign in SearchLoading...\\r\\n\\r...</td>\n",
       "      <td>This video demonstrates the power of IBM DataS...</td>\n",
       "      <td>Analyze NY Restaurant data using Spark in DSX</td>\n",
       "      <td>Live</td>\n",
       "      <td>4</td>\n",
       "    </tr>\n",
       "  </tbody>\n",
       "</table>\n",
       "</div>"
      ],
      "text/plain": [
       "                                            doc_body  \\\n",
       "0  Skip navigation Sign in SearchLoading...\\r\\n\\r...   \n",
       "1  No Free Hunch Navigation * kaggle.com\\r\\n\\r\\n ...   \n",
       "2  ☰ * Login\\r\\n * Sign Up\\r\\n\\r\\n * Learning Pat...   \n",
       "3  DATALAYER: HIGH THROUGHPUT, LOW LATENCY AT SCA...   \n",
       "4  Skip navigation Sign in SearchLoading...\\r\\n\\r...   \n",
       "\n",
       "                                     doc_description  \\\n",
       "0  Detect bad readings in real time using Python ...   \n",
       "1  See the forest, see the trees. Here lies the c...   \n",
       "2  Here’s this week’s news in Data Science and Bi...   \n",
       "3  Learn how distributed DBs solve the problem of...   \n",
       "4  This video demonstrates the power of IBM DataS...   \n",
       "\n",
       "                                       doc_full_name doc_status  article_id  \n",
       "0  Detect Malfunctioning IoT Sensors with Streami...       Live           0  \n",
       "1  Communicating data science: A guide to present...       Live           1  \n",
       "2         This Week in Data Science (April 18, 2017)       Live           2  \n",
       "3  DataLayer Conference: Boost the performance of...       Live           3  \n",
       "4      Analyze NY Restaurant data using Spark in DSX       Live           4  "
      ]
     },
     "metadata": {},
     "execution_count": 2
    }
   ],
   "metadata": {
    "collapsed": true
   }
  },
  {
   "cell_type": "markdown",
   "source": [
    "### <a class=\"anchor\" id=\"Exploratory-Data-Analysis\">Part I : Exploratory Data Analysis</a>\r\n",
    "\r\n",
    "Use the dictionary and cells below to provide some insight into the descriptive statistics of the data.\r\n",
    "\r\n",
    "`1.` What is the distribution of how many articles a user interacts with in the dataset?  Provide a visual and descriptive statistics to assist with giving a look at the number of times each user interacts with an article.  "
   ],
   "metadata": {}
  },
  {
   "cell_type": "code",
   "execution_count": 3,
   "source": [
    "df.shape, df_content.shape"
   ],
   "outputs": [
    {
     "output_type": "execute_result",
     "data": {
      "text/plain": [
       "((45993, 3), (1056, 5))"
      ]
     },
     "metadata": {},
     "execution_count": 3
    }
   ],
   "metadata": {}
  },
  {
   "cell_type": "code",
   "execution_count": 4,
   "source": [
    "# We consider each email represents an individual user. So, use `groupby` method on email column and count frequencies of each article_id per user.\r\n",
    "user_articles = df.groupby('email')['article_id'].count()\r\n",
    "user_articles.sort_values(ascending=False)"
   ],
   "outputs": [
    {
     "output_type": "execute_result",
     "data": {
      "text/plain": [
       "email\n",
       "2b6c0f514c2f2b04ad3c4583407dccd0810469ee    364\n",
       "77959baaa9895a7e2bdc9297f8b27c1b6f2cb52a    363\n",
       "2f5c7feae533ce046f2cb16fb3a29fe00528ed66    170\n",
       "a37adec71b667b297ed2440a9ff7dad427c7ac85    169\n",
       "8510a5010a5d4c89f5b07baac6de80cd12cfaf93    160\n",
       "                                           ... \n",
       "1b520f0f65c0aee52d4235f92fb2de58fa966635      1\n",
       "7a67e4a2902a20062e1f2a6835b6e099b34b4f6c      1\n",
       "c4b7e639e91b1d18e5b9c000f0ad3354888fcdde      1\n",
       "7a7fb282789944665ffc1cddee5ddbdbd7ca9f64      1\n",
       "9655144418d25a0e074616840447e6e5dbef0069      1\n",
       "Name: article_id, Length: 5148, dtype: int64"
      ]
     },
     "metadata": {},
     "execution_count": 4
    }
   ],
   "metadata": {
    "collapsed": true
   }
  },
  {
   "cell_type": "code",
   "execution_count": 5,
   "source": [
    "# We are using describe method on the frequencies to get distribution, min, max values, etc.\r\n",
    "user_articles.describe()"
   ],
   "outputs": [
    {
     "output_type": "execute_result",
     "data": {
      "text/plain": [
       "count    5148.000000\n",
       "mean        8.930847\n",
       "std        16.802267\n",
       "min         1.000000\n",
       "25%         1.000000\n",
       "50%         3.000000\n",
       "75%         9.000000\n",
       "max       364.000000\n",
       "Name: article_id, dtype: float64"
      ]
     },
     "metadata": {},
     "execution_count": 5
    }
   ],
   "metadata": {
    "collapsed": true
   }
  },
  {
   "cell_type": "code",
   "execution_count": 6,
   "source": [
    "# Fill in the median and maximum number of user_article interactios below\r\n",
    "\r\n",
    "median_val = 3  # 50% of individuals interact with ____ number of articles or fewer.\r\n",
    "max_views_by_user = 364  # The maximum number of user-article interactions by any 1 user is ______."
   ],
   "outputs": [],
   "metadata": {
    "collapsed": true
   }
  },
  {
   "cell_type": "code",
   "execution_count": 7,
   "source": [
    "# Visual giving a look at the number of times each user interacts with an article.\r\n",
    "ax = plt.axes()\r\n",
    "ax.set_title(\"Frequency of article interactions per user.\")\r\n",
    "ax.set_xlabel(\"Users\")\r\n",
    "ax.set_ylabel(\"Count\")\r\n",
    "user_articles.plot(ax=ax, figsize=(20, 6), use_index=False)"
   ],
   "outputs": [
    {
     "output_type": "execute_result",
     "data": {
      "text/plain": [
       "<AxesSubplot:title={'center':'Frequency of article interactions per user.'}, xlabel='Users', ylabel='Count'>"
      ]
     },
     "metadata": {},
     "execution_count": 7
    },
    {
     "output_type": "display_data",
     "data": {
      "image/png": "[encoded data removed]",
      "text/plain": [
       "<Figure size 1440x432 with 1 Axes>"
      ]
     },
     "metadata": {
      "needs_background": "light"
     }
    }
   ],
   "metadata": {}
  },
  {
   "cell_type": "code",
   "execution_count": 8,
   "source": [
    "# However, each user might have accessed the same article multiple times.\r\n",
    "# For example the following user has accessed article_id 409 at least 3 times:\r\n",
    "df[df['email'] == '2b6c0f514c2f2b04ad3c4583407dccd0810469ee'].head(10)"
   ],
   "outputs": [
    {
     "output_type": "execute_result",
     "data": {
      "text/html": [
       "<div>\n",
       "<style scoped>\n",
       "    .dataframe tbody tr th:only-of-type {\n",
       "        vertical-align: middle;\n",
       "    }\n",
       "\n",
       "    .dataframe tbody tr th {\n",
       "        vertical-align: top;\n",
       "    }\n",
       "\n",
       "    .dataframe thead th {\n",
       "        text-align: right;\n",
       "    }\n",
       "</style>\n",
       "<table border=\"1\" class=\"dataframe\">\n",
       "  <thead>\n",
       "    <tr style=\"text-align: right;\">\n",
       "      <th></th>\n",
       "      <th>article_id</th>\n",
       "      <th>title</th>\n",
       "      <th>email</th>\n",
       "    </tr>\n",
       "  </thead>\n",
       "  <tbody>\n",
       "    <tr>\n",
       "      <th>28</th>\n",
       "      <td>362.0</td>\n",
       "      <td>dsx: hybrid mode</td>\n",
       "      <td>2b6c0f514c2f2b04ad3c4583407dccd0810469ee</td>\n",
       "    </tr>\n",
       "    <tr>\n",
       "      <th>72</th>\n",
       "      <td>409.0</td>\n",
       "      <td>using github for project control in dsx</td>\n",
       "      <td>2b6c0f514c2f2b04ad3c4583407dccd0810469ee</td>\n",
       "    </tr>\n",
       "    <tr>\n",
       "      <th>97</th>\n",
       "      <td>409.0</td>\n",
       "      <td>using github for project control in dsx</td>\n",
       "      <td>2b6c0f514c2f2b04ad3c4583407dccd0810469ee</td>\n",
       "    </tr>\n",
       "    <tr>\n",
       "      <th>223</th>\n",
       "      <td>302.0</td>\n",
       "      <td>accelerate your workflow with dsx</td>\n",
       "      <td>2b6c0f514c2f2b04ad3c4583407dccd0810469ee</td>\n",
       "    </tr>\n",
       "    <tr>\n",
       "      <th>255</th>\n",
       "      <td>409.0</td>\n",
       "      <td>using github for project control in dsx</td>\n",
       "      <td>2b6c0f514c2f2b04ad3c4583407dccd0810469ee</td>\n",
       "    </tr>\n",
       "    <tr>\n",
       "      <th>387</th>\n",
       "      <td>14.0</td>\n",
       "      <td>got zip code data? prep it for analytics. – ib...</td>\n",
       "      <td>2b6c0f514c2f2b04ad3c4583407dccd0810469ee</td>\n",
       "    </tr>\n",
       "    <tr>\n",
       "      <th>434</th>\n",
       "      <td>29.0</td>\n",
       "      <td>experience iot with coursera</td>\n",
       "      <td>2b6c0f514c2f2b04ad3c4583407dccd0810469ee</td>\n",
       "    </tr>\n",
       "    <tr>\n",
       "      <th>438</th>\n",
       "      <td>1293.0</td>\n",
       "      <td>finding optimal locations of new store using d...</td>\n",
       "      <td>2b6c0f514c2f2b04ad3c4583407dccd0810469ee</td>\n",
       "    </tr>\n",
       "    <tr>\n",
       "      <th>487</th>\n",
       "      <td>1429.0</td>\n",
       "      <td>use deep learning for image classification</td>\n",
       "      <td>2b6c0f514c2f2b04ad3c4583407dccd0810469ee</td>\n",
       "    </tr>\n",
       "    <tr>\n",
       "      <th>492</th>\n",
       "      <td>1293.0</td>\n",
       "      <td>finding optimal locations of new store using d...</td>\n",
       "      <td>2b6c0f514c2f2b04ad3c4583407dccd0810469ee</td>\n",
       "    </tr>\n",
       "  </tbody>\n",
       "</table>\n",
       "</div>"
      ],
      "text/plain": [
       "     article_id                                              title  \\\n",
       "28        362.0                                   dsx: hybrid mode   \n",
       "72        409.0            using github for project control in dsx   \n",
       "97        409.0            using github for project control in dsx   \n",
       "223       302.0                  accelerate your workflow with dsx   \n",
       "255       409.0            using github for project control in dsx   \n",
       "387        14.0  got zip code data? prep it for analytics. – ib...   \n",
       "434        29.0                       experience iot with coursera   \n",
       "438      1293.0  finding optimal locations of new store using d...   \n",
       "487      1429.0         use deep learning for image classification   \n",
       "492      1293.0  finding optimal locations of new store using d...   \n",
       "\n",
       "                                        email  \n",
       "28   2b6c0f514c2f2b04ad3c4583407dccd0810469ee  \n",
       "72   2b6c0f514c2f2b04ad3c4583407dccd0810469ee  \n",
       "97   2b6c0f514c2f2b04ad3c4583407dccd0810469ee  \n",
       "223  2b6c0f514c2f2b04ad3c4583407dccd0810469ee  \n",
       "255  2b6c0f514c2f2b04ad3c4583407dccd0810469ee  \n",
       "387  2b6c0f514c2f2b04ad3c4583407dccd0810469ee  \n",
       "434  2b6c0f514c2f2b04ad3c4583407dccd0810469ee  \n",
       "438  2b6c0f514c2f2b04ad3c4583407dccd0810469ee  \n",
       "487  2b6c0f514c2f2b04ad3c4583407dccd0810469ee  \n",
       "492  2b6c0f514c2f2b04ad3c4583407dccd0810469ee  "
      ]
     },
     "metadata": {},
     "execution_count": 8
    }
   ],
   "metadata": {}
  },
  {
   "cell_type": "code",
   "execution_count": 9,
   "source": [
    "# So if we are looking for unique articles for each user, we will select from df only unique articles\r\n",
    "# Ref: https://stackoverflow.com/a/43714299/10074873\r\n",
    "user_articles_unique = df.groupby('email').filter(lambda x: x.article_id.is_unique)\r\n",
    "# This will give us a different picture \r\n",
    "user_articles_unique_freq = user_articles_unique.groupby('email')['article_id'].count()\r\n",
    "user_articles_unique_freq.sort_values(ascending=False)"
   ],
   "outputs": [
    {
     "output_type": "execute_result",
     "data": {
      "text/plain": [
       "email\n",
       "e4478410e8c735b55166e95f65bb639a99422efc    24\n",
       "84b5001249c065333dd162007f052de06a120aaa    22\n",
       "d81c855770802c699d680fe742f024cd432df630    22\n",
       "b7d16a489f7bce50375d6d3b304127ff6f10816a    20\n",
       "8e147e7ec0c7a6f6290a1e6724679eb34d95919f    20\n",
       "                                            ..\n",
       "71e2560d820504904a45d9f183bdd8354d160d1f     1\n",
       "71c6daa5781f437f27ab7bbc849331dce70adf3a     1\n",
       "71b9f0a7b48a36d9923449b756068b607456bf16     1\n",
       "71968d1beb71394383d17dbdf63498c1df3b3c65     1\n",
       "ffaefa3a1bc2d074d9a14c9924d4e67a46c35410     1\n",
       "Name: article_id, Length: 3059, dtype: int64"
      ]
     },
     "metadata": {},
     "execution_count": 9
    }
   ],
   "metadata": {}
  },
  {
   "cell_type": "code",
   "execution_count": 10,
   "source": [
    "user_articles_unique_freq.describe()"
   ],
   "outputs": [
    {
     "output_type": "execute_result",
     "data": {
      "text/plain": [
       "count    3059.000000\n",
       "mean        2.645309\n",
       "std         2.592195\n",
       "min         1.000000\n",
       "25%         1.000000\n",
       "50%         2.000000\n",
       "75%         3.000000\n",
       "max        24.000000\n",
       "Name: article_id, dtype: float64"
      ]
     },
     "metadata": {},
     "execution_count": 10
    }
   ],
   "metadata": {}
  },
  {
   "cell_type": "code",
   "execution_count": 11,
   "source": [
    "ax2 = plt.axes()\r\n",
    "ax2.set_title(\"Frequency of UNIQUE article interactions per user.\")\r\n",
    "ax2.set_xlabel(\"Users\")\r\n",
    "ax2.set_ylabel(\"Count\")\r\n",
    "user_articles_unique_freq.plot(ax=ax2, figsize=(20, 6), use_index=False)"
   ],
   "outputs": [
    {
     "output_type": "execute_result",
     "data": {
      "text/plain": [
       "<AxesSubplot:title={'center':'Frequency of UNIQUE article interactions per user.'}, xlabel='Users', ylabel='Count'>"
      ]
     },
     "metadata": {},
     "execution_count": 11
    },
    {
     "output_type": "display_data",
     "data": {
      "image/png": "[encoded data removed]",
      "text/plain": [
       "<Figure size 1440x432 with 1 Axes>"
      ]
     },
     "metadata": {
      "needs_background": "light"
     }
    }
   ],
   "metadata": {}
  },
  {
   "cell_type": "markdown",
   "source": [
    "`2.` Explore and remove duplicate articles from the **df_content** dataframe.  "
   ],
   "metadata": {}
  },
  {
   "cell_type": "code",
   "execution_count": 12,
   "source": [
    "# Find and explore duplicate articles\r\n",
    "duplicated_articles = df_content.duplicated(subset=['article_id'])\r\n",
    "df_content_duplicates = df_content[duplicated_articles]\r\n",
    "df_content_duplicates.head()"
   ],
   "outputs": [
    {
     "output_type": "execute_result",
     "data": {
      "text/html": [
       "<div>\n",
       "<style scoped>\n",
       "    .dataframe tbody tr th:only-of-type {\n",
       "        vertical-align: middle;\n",
       "    }\n",
       "\n",
       "    .dataframe tbody tr th {\n",
       "        vertical-align: top;\n",
       "    }\n",
       "\n",
       "    .dataframe thead th {\n",
       "        text-align: right;\n",
       "    }\n",
       "</style>\n",
       "<table border=\"1\" class=\"dataframe\">\n",
       "  <thead>\n",
       "    <tr style=\"text-align: right;\">\n",
       "      <th></th>\n",
       "      <th>doc_body</th>\n",
       "      <th>doc_description</th>\n",
       "      <th>doc_full_name</th>\n",
       "      <th>doc_status</th>\n",
       "      <th>article_id</th>\n",
       "    </tr>\n",
       "  </thead>\n",
       "  <tbody>\n",
       "    <tr>\n",
       "      <th>365</th>\n",
       "      <td>Follow Sign in / Sign up Home About Insight Da...</td>\n",
       "      <td>During the seven-week Insight Data Engineering...</td>\n",
       "      <td>Graph-based machine learning</td>\n",
       "      <td>Live</td>\n",
       "      <td>50</td>\n",
       "    </tr>\n",
       "    <tr>\n",
       "      <th>692</th>\n",
       "      <td>Homepage Follow Sign in / Sign up Homepage * H...</td>\n",
       "      <td>One of the earliest documented catalogs was co...</td>\n",
       "      <td>How smart catalogs can turn the big data flood...</td>\n",
       "      <td>Live</td>\n",
       "      <td>221</td>\n",
       "    </tr>\n",
       "    <tr>\n",
       "      <th>761</th>\n",
       "      <td>Homepage Follow Sign in Get started Homepage *...</td>\n",
       "      <td>Today’s world of data science leverages data f...</td>\n",
       "      <td>Using Apache Spark as a parallel processing fr...</td>\n",
       "      <td>Live</td>\n",
       "      <td>398</td>\n",
       "    </tr>\n",
       "    <tr>\n",
       "      <th>970</th>\n",
       "      <td>This video shows you how to construct queries ...</td>\n",
       "      <td>This video shows you how to construct queries ...</td>\n",
       "      <td>Use the Primary Index</td>\n",
       "      <td>Live</td>\n",
       "      <td>577</td>\n",
       "    </tr>\n",
       "    <tr>\n",
       "      <th>971</th>\n",
       "      <td>Homepage Follow Sign in Get started * Home\\r\\n...</td>\n",
       "      <td>If you are like most data scientists, you are ...</td>\n",
       "      <td>Self-service data preparation with IBM Data Re...</td>\n",
       "      <td>Live</td>\n",
       "      <td>232</td>\n",
       "    </tr>\n",
       "  </tbody>\n",
       "</table>\n",
       "</div>"
      ],
      "text/plain": [
       "                                              doc_body  \\\n",
       "365  Follow Sign in / Sign up Home About Insight Da...   \n",
       "692  Homepage Follow Sign in / Sign up Homepage * H...   \n",
       "761  Homepage Follow Sign in Get started Homepage *...   \n",
       "970  This video shows you how to construct queries ...   \n",
       "971  Homepage Follow Sign in Get started * Home\\r\\n...   \n",
       "\n",
       "                                       doc_description  \\\n",
       "365  During the seven-week Insight Data Engineering...   \n",
       "692  One of the earliest documented catalogs was co...   \n",
       "761  Today’s world of data science leverages data f...   \n",
       "970  This video shows you how to construct queries ...   \n",
       "971  If you are like most data scientists, you are ...   \n",
       "\n",
       "                                         doc_full_name doc_status  article_id  \n",
       "365                       Graph-based machine learning       Live          50  \n",
       "692  How smart catalogs can turn the big data flood...       Live         221  \n",
       "761  Using Apache Spark as a parallel processing fr...       Live         398  \n",
       "970                              Use the Primary Index       Live         577  \n",
       "971  Self-service data preparation with IBM Data Re...       Live         232  "
      ]
     },
     "metadata": {},
     "execution_count": 12
    }
   ],
   "metadata": {
    "collapsed": true
   }
  },
  {
   "cell_type": "code",
   "execution_count": 13,
   "source": [
    "# Number of identified duplicates\r\n",
    "duplicated_articles.sum()"
   ],
   "outputs": [
    {
     "output_type": "execute_result",
     "data": {
      "text/plain": [
       "5"
      ]
     },
     "metadata": {},
     "execution_count": 13
    }
   ],
   "metadata": {}
  },
  {
   "cell_type": "code",
   "execution_count": 14,
   "source": [
    "# Let us count a duplicate's occurrences in the original df_content:\r\n",
    "df_content['article_id'][df_content['article_id'] == 221].value_counts()"
   ],
   "outputs": [
    {
     "output_type": "execute_result",
     "data": {
      "text/plain": [
       "221    2\n",
       "Name: article_id, dtype: int64"
      ]
     },
     "metadata": {},
     "execution_count": 14
    }
   ],
   "metadata": {}
  },
  {
   "cell_type": "code",
   "execution_count": 15,
   "source": [
    "# Remove any rows that have the same article_id - only keep the first\r\n",
    "# We will use the dataframe created with method `duplicated` above since it has keep=first as default.\r\n",
    "# Ref: https://pandas.pydata.org/docs/reference/api/pandas.DataFrame.duplicated.html\r\n",
    "# Using this we will select all rows from the original dataframe that their index is not in the duplicates dataframe.\r\n",
    "df_content_no_dups = df_content[~df_content.index.isin(df_content_duplicates.index)]\r\n",
    "df_content_no_dups.shape"
   ],
   "outputs": [
    {
     "output_type": "execute_result",
     "data": {
      "text/plain": [
       "(1051, 5)"
      ]
     },
     "metadata": {},
     "execution_count": 15
    }
   ],
   "metadata": {
    "collapsed": true
   }
  },
  {
   "cell_type": "markdown",
   "source": [
    "`3.` Use the cells below to find:\r\n",
    "\r\n",
    "**a.** The number of unique articles that have an interaction with a user.  \r\n",
    "**b.** The number of unique articles in the dataset (whether they have any interactions or not).<br>\r\n",
    "**c.** The number of unique users in the dataset. (excluding null values)<br> \r\n",
    "**d.** The number of user-article interactions in the dataset."
   ],
   "metadata": {}
  },
  {
   "cell_type": "markdown",
   "source": [
    "`df` dataframe associates articles with users. We will use method `value_counts` on variable article_id that returns a Series containing counts of unique values and does not include counts of NaN's by default:"
   ],
   "metadata": {}
  },
  {
   "cell_type": "code",
   "execution_count": 16,
   "source": [
    "len(df.article_id.value_counts())"
   ],
   "outputs": [
    {
     "output_type": "execute_result",
     "data": {
      "text/plain": [
       "714"
      ]
     },
     "metadata": {},
     "execution_count": 16
    }
   ],
   "metadata": {
    "collapsed": true
   }
  },
  {
   "cell_type": "markdown",
   "source": [
    "Number of unique articles in the dataset (whether they have any interactions or not) refers to dataset `df_content` having removed duplicates, as done above:"
   ],
   "metadata": {}
  },
  {
   "cell_type": "code",
   "execution_count": 17,
   "source": [
    "df_content_no_dups.shape[0]"
   ],
   "outputs": [
    {
     "output_type": "execute_result",
     "data": {
      "text/plain": [
       "1051"
      ]
     },
     "metadata": {},
     "execution_count": 17
    }
   ],
   "metadata": {}
  },
  {
   "cell_type": "markdown",
   "source": [
    "The number of unique users in the dataset. (excluding null values), again refers to `df` dataset:"
   ],
   "metadata": {}
  },
  {
   "cell_type": "code",
   "execution_count": 18,
   "source": [
    "len(df.email.value_counts())"
   ],
   "outputs": [
    {
     "output_type": "execute_result",
     "data": {
      "text/plain": [
       "5148"
      ]
     },
     "metadata": {},
     "execution_count": 18
    }
   ],
   "metadata": {}
  },
  {
   "cell_type": "markdown",
   "source": [
    "The number of user-article interactions in the dataset refers to the total number of interactions as recorded in `df` dataset:"
   ],
   "metadata": {}
  },
  {
   "cell_type": "code",
   "execution_count": 19,
   "source": [
    "df.shape[0]"
   ],
   "outputs": [
    {
     "output_type": "execute_result",
     "data": {
      "text/plain": [
       "45993"
      ]
     },
     "metadata": {},
     "execution_count": 19
    }
   ],
   "metadata": {}
  },
  {
   "cell_type": "code",
   "execution_count": 20,
   "source": [
    "unique_articles = 714  # The number of unique articles that have at least one interaction\r\n",
    "total_articles = 1051  # The number of unique articles on the IBM platform\r\n",
    "unique_users = 5148  # The number of unique users\r\n",
    "user_article_interactions = 45993  # The number of user-article interactions"
   ],
   "outputs": [],
   "metadata": {
    "collapsed": true
   }
  },
  {
   "cell_type": "markdown",
   "source": [
    "`4.` Use the cells below to find the most viewed **article_id**, as well as how often it was viewed.  After talking to the company leaders, the `email_mapper` function was deemed a reasonable way to map users to ids.  There were a small number of null values, and it was find using other information that all of these null values likely belonged to a single user."
   ],
   "metadata": {}
  },
  {
   "cell_type": "code",
   "execution_count": 21,
   "source": [
    "str(df.article_id.value_counts().index[0])"
   ],
   "outputs": [
    {
     "output_type": "execute_result",
     "data": {
      "text/plain": [
       "'1429.0'"
      ]
     },
     "metadata": {},
     "execution_count": 21
    }
   ],
   "metadata": {}
  },
  {
   "cell_type": "code",
   "execution_count": 22,
   "source": [
    "df.article_id.value_counts().max()"
   ],
   "outputs": [
    {
     "output_type": "execute_result",
     "data": {
      "text/plain": [
       "937"
      ]
     },
     "metadata": {},
     "execution_count": 22
    }
   ],
   "metadata": {}
  },
  {
   "cell_type": "code",
   "execution_count": 23,
   "source": [
    "most_viewed_article_id = '1429.0'  # The most viewed article in the dataset as a string with one value following the decimal \r\n",
    "max_views = 937  # The most viewed article in the dataset was viewed how many times?"
   ],
   "outputs": [],
   "metadata": {
    "collapsed": true
   }
  },
  {
   "cell_type": "code",
   "execution_count": 24,
   "source": [
    "## No need to change the code here - this will be helpful for later parts of the notebook\r\n",
    "# Run this cell to map the user email to a user_id column and remove the email column\r\n",
    "\r\n",
    "def email_mapper():\r\n",
    "    coded_dict = dict()\r\n",
    "    cter = 1\r\n",
    "    email_encoded = []\r\n",
    "    \r\n",
    "    for val in df['email']:\r\n",
    "        if val not in coded_dict:\r\n",
    "            coded_dict[val] = cter\r\n",
    "            cter+=1\r\n",
    "        \r\n",
    "        email_encoded.append(coded_dict[val])\r\n",
    "    return email_encoded\r\n",
    "\r\n",
    "email_encoded = email_mapper()\r\n",
    "del df['email']\r\n",
    "df['user_id'] = email_encoded\r\n",
    "\r\n",
    "# show header\r\n",
    "df.head()"
   ],
   "outputs": [
    {
     "output_type": "execute_result",
     "data": {
      "text/html": [
       "<div>\n",
       "<style scoped>\n",
       "    .dataframe tbody tr th:only-of-type {\n",
       "        vertical-align: middle;\n",
       "    }\n",
       "\n",
       "    .dataframe tbody tr th {\n",
       "        vertical-align: top;\n",
       "    }\n",
       "\n",
       "    .dataframe thead th {\n",
       "        text-align: right;\n",
       "    }\n",
       "</style>\n",
       "<table border=\"1\" class=\"dataframe\">\n",
       "  <thead>\n",
       "    <tr style=\"text-align: right;\">\n",
       "      <th></th>\n",
       "      <th>article_id</th>\n",
       "      <th>title</th>\n",
       "      <th>user_id</th>\n",
       "    </tr>\n",
       "  </thead>\n",
       "  <tbody>\n",
       "    <tr>\n",
       "      <th>0</th>\n",
       "      <td>1430.0</td>\n",
       "      <td>using pixiedust for fast, flexible, and easier...</td>\n",
       "      <td>1</td>\n",
       "    </tr>\n",
       "    <tr>\n",
       "      <th>1</th>\n",
       "      <td>1314.0</td>\n",
       "      <td>healthcare python streaming application demo</td>\n",
       "      <td>2</td>\n",
       "    </tr>\n",
       "    <tr>\n",
       "      <th>2</th>\n",
       "      <td>1429.0</td>\n",
       "      <td>use deep learning for image classification</td>\n",
       "      <td>3</td>\n",
       "    </tr>\n",
       "    <tr>\n",
       "      <th>3</th>\n",
       "      <td>1338.0</td>\n",
       "      <td>ml optimization using cognitive assistant</td>\n",
       "      <td>4</td>\n",
       "    </tr>\n",
       "    <tr>\n",
       "      <th>4</th>\n",
       "      <td>1276.0</td>\n",
       "      <td>deploy your python model as a restful api</td>\n",
       "      <td>5</td>\n",
       "    </tr>\n",
       "  </tbody>\n",
       "</table>\n",
       "</div>"
      ],
      "text/plain": [
       "   article_id                                              title  user_id\n",
       "0      1430.0  using pixiedust for fast, flexible, and easier...        1\n",
       "1      1314.0       healthcare python streaming application demo        2\n",
       "2      1429.0         use deep learning for image classification        3\n",
       "3      1338.0          ml optimization using cognitive assistant        4\n",
       "4      1276.0          deploy your python model as a restful api        5"
      ]
     },
     "metadata": {},
     "execution_count": 24
    }
   ],
   "metadata": {
    "collapsed": true
   }
  },
  {
   "cell_type": "code",
   "execution_count": 25,
   "source": [
    "## If you stored all your results in the variable names above, \r\n",
    "## you shouldn't need to change anything in this cell\r\n",
    "\r\n",
    "sol_1_dict = {\r\n",
    "    '`50% of individuals have _____ or fewer interactions.`': median_val,\r\n",
    "    '`The total number of user-article interactions in the dataset is ______.`': user_article_interactions,\r\n",
    "    '`The maximum number of user-article interactions by any 1 user is ______.`': max_views_by_user,\r\n",
    "    '`The most viewed article in the dataset was viewed _____ times.`': max_views,\r\n",
    "    '`The article_id of the most viewed article is ______.`': most_viewed_article_id,\r\n",
    "    '`The number of unique articles that have at least 1 rating ______.`': unique_articles,\r\n",
    "    '`The number of unique users in the dataset is ______`': unique_users,\r\n",
    "    '`The number of unique articles on the IBM platform`': total_articles\r\n",
    "}\r\n",
    "\r\n",
    "# Test your dictionary against the solution\r\n",
    "t.sol_1_test(sol_1_dict)"
   ],
   "outputs": [
    {
     "output_type": "stream",
     "name": "stdout",
     "text": [
      "It looks like you have everything right here! Nice job!\n"
     ]
    }
   ],
   "metadata": {
    "collapsed": true
   }
  },
  {
   "cell_type": "markdown",
   "source": [
    "### <a class=\"anchor\" id=\"Rank\">Part II: Rank-Based Recommendations</a>\n",
    "\n",
    "Unlike in the earlier lessons, we don't actually have ratings for whether a user liked an article or not.  We only know that a user has interacted with an article.  In these cases, the popularity of an article can really only be based on how often an article was interacted with.\n",
    "\n",
    "`1.` Fill in the function below to return the **n** top articles ordered with most interactions as the top. Test your function using the tests below."
   ],
   "metadata": {}
  },
  {
   "cell_type": "code",
   "execution_count": 26,
   "source": [
    "df.groupby('title')['article_id'].value_counts().sort_values(ascending=False).index.get_level_values(0)[:10].tolist()"
   ],
   "outputs": [
    {
     "output_type": "execute_result",
     "data": {
      "text/plain": [
       "['use deep learning for image classification',\n",
       " 'insights from new york car accident reports',\n",
       " 'visualize car data with brunel',\n",
       " 'use xgboost, scikit-learn & ibm watson machine learning apis',\n",
       " 'predicting churn with the spss random tree algorithm',\n",
       " 'healthcare python streaming application demo',\n",
       " 'finding optimal locations of new store using decision optimization',\n",
       " 'apache spark lab, part 1: basic concepts',\n",
       " 'analyze energy consumption in buildings',\n",
       " 'gosales transactions for logistic regression model']"
      ]
     },
     "metadata": {},
     "execution_count": 26
    }
   ],
   "metadata": {}
  },
  {
   "cell_type": "code",
   "execution_count": 27,
   "source": [
    "df.article_id.value_counts().index[:10].tolist()"
   ],
   "outputs": [
    {
     "output_type": "execute_result",
     "data": {
      "text/plain": [
       "[1429.0,\n",
       " 1330.0,\n",
       " 1431.0,\n",
       " 1427.0,\n",
       " 1364.0,\n",
       " 1314.0,\n",
       " 1293.0,\n",
       " 1170.0,\n",
       " 1162.0,\n",
       " 1304.0]"
      ]
     },
     "metadata": {},
     "execution_count": 27
    }
   ],
   "metadata": {}
  },
  {
   "cell_type": "code",
   "execution_count": 28,
   "source": [
    "def get_top_articles(n, df=df):\r\n",
    "    '''\r\n",
    "    INPUT:\r\n",
    "    n - (int) the number of top articles to return\r\n",
    "    df - (pandas dataframe) df as defined at the top of the notebook \r\n",
    "    \r\n",
    "    OUTPUT:\r\n",
    "    top_articles - (list) A list of the top 'n' article titles \r\n",
    "    \r\n",
    "    '''\r\n",
    "    top_articles = df.groupby('title')['article_id'].value_counts().sort_values(ascending=False).index.get_level_values(0)[:n].tolist()\r\n",
    "    \r\n",
    "    return top_articles # Return the top article titles from df (not df_content)\r\n",
    "\r\n",
    "def get_top_article_ids(n, df=df):\r\n",
    "    '''\r\n",
    "    INPUT:\r\n",
    "    n - (int) the number of top articles to return\r\n",
    "    df - (pandas dataframe) df as defined at the top of the notebook \r\n",
    "    \r\n",
    "    OUTPUT:\r\n",
    "    top_articles - (list) A list of the top 'n' article titles \r\n",
    "    \r\n",
    "    '''\r\n",
    "    top_articles = df.article_id.value_counts().index[:n].astype(str).tolist()\r\n",
    " \r\n",
    "    return top_articles # Return the top article ids"
   ],
   "outputs": [],
   "metadata": {
    "collapsed": true
   }
  },
  {
   "cell_type": "code",
   "execution_count": 29,
   "source": [
    "print(get_top_articles(10))\r\n",
    "print(get_top_article_ids(10))"
   ],
   "outputs": [
    {
     "output_type": "stream",
     "name": "stdout",
     "text": [
      "['use deep learning for image classification', 'insights from new york car accident reports', 'visualize car data with brunel', 'use xgboost, scikit-learn & ibm watson machine learning apis', 'predicting churn with the spss random tree algorithm', 'healthcare python streaming application demo', 'finding optimal locations of new store using decision optimization', 'apache spark lab, part 1: basic concepts', 'analyze energy consumption in buildings', 'gosales transactions for logistic regression model']\n",
      "['1429.0', '1330.0', '1431.0', '1427.0', '1364.0', '1314.0', '1293.0', '1170.0', '1162.0', '1304.0']\n"
     ]
    }
   ],
   "metadata": {
    "collapsed": true
   }
  },
  {
   "cell_type": "code",
   "execution_count": 30,
   "source": [
    "# Test your function by returning the top 5, 10, and 20 articles\r\n",
    "top_5 = get_top_articles(5)\r\n",
    "top_10 = get_top_articles(10)\r\n",
    "top_20 = get_top_articles(20)\r\n",
    "\r\n",
    "# Test each of your three lists from above\r\n",
    "t.sol_2_test(get_top_articles)"
   ],
   "outputs": [
    {
     "output_type": "stream",
     "name": "stdout",
     "text": [
      "Your top_5 looks like the solution list! Nice job.\n",
      "Your top_10 looks like the solution list! Nice job.\n",
      "Your top_20 looks like the solution list! Nice job.\n"
     ]
    }
   ],
   "metadata": {
    "collapsed": true
   }
  },
  {
   "cell_type": "markdown",
   "source": [
    "### <a class=\"anchor\" id=\"User-User\">Part III: User-User Based Collaborative Filtering</a>\n",
    "\n",
    "\n",
    "`1.` Use the function below to reformat the **df** dataframe to be shaped with users as the rows and articles as the columns.  \n",
    "\n",
    "* Each **user** should only appear in each **row** once.\n",
    "\n",
    "\n",
    "* Each **article** should only show up in one **column**.  \n",
    "\n",
    "\n",
    "* **If a user has interacted with an article, then place a 1 where the user-row meets for that article-column**.  It does not matter how many times a user has interacted with the article, all entries where a user has interacted with an article should be a 1.  \n",
    "\n",
    "\n",
    "* **If a user has not interacted with an item, then place a zero where the user-row meets for that article-column**. \n",
    "\n",
    "Use the tests to make sure the basic structure of your matrix matches what is expected by the solution."
   ],
   "metadata": {}
  },
  {
   "cell_type": "code",
   "execution_count": 31,
   "source": [
    "df.groupby(['user_id', 'article_id'])['title'].agg('first').unstack(fill_value=0).apply(pd.to_numeric, errors='coerce').fillna(1).astype(int)"
   ],
   "outputs": [
    {
     "output_type": "execute_result",
     "data": {
      "text/html": [
       "<div>\n",
       "<style scoped>\n",
       "    .dataframe tbody tr th:only-of-type {\n",
       "        vertical-align: middle;\n",
       "    }\n",
       "\n",
       "    .dataframe tbody tr th {\n",
       "        vertical-align: top;\n",
       "    }\n",
       "\n",
       "    .dataframe thead th {\n",
       "        text-align: right;\n",
       "    }\n",
       "</style>\n",
       "<table border=\"1\" class=\"dataframe\">\n",
       "  <thead>\n",
       "    <tr style=\"text-align: right;\">\n",
       "      <th>article_id</th>\n",
       "      <th>0.0</th>\n",
       "      <th>2.0</th>\n",
       "      <th>4.0</th>\n",
       "      <th>8.0</th>\n",
       "      <th>9.0</th>\n",
       "      <th>12.0</th>\n",
       "      <th>14.0</th>\n",
       "      <th>15.0</th>\n",
       "      <th>16.0</th>\n",
       "      <th>18.0</th>\n",
       "      <th>...</th>\n",
       "      <th>1434.0</th>\n",
       "      <th>1435.0</th>\n",
       "      <th>1436.0</th>\n",
       "      <th>1437.0</th>\n",
       "      <th>1439.0</th>\n",
       "      <th>1440.0</th>\n",
       "      <th>1441.0</th>\n",
       "      <th>1442.0</th>\n",
       "      <th>1443.0</th>\n",
       "      <th>1444.0</th>\n",
       "    </tr>\n",
       "    <tr>\n",
       "      <th>user_id</th>\n",
       "      <th></th>\n",
       "      <th></th>\n",
       "      <th></th>\n",
       "      <th></th>\n",
       "      <th></th>\n",
       "      <th></th>\n",
       "      <th></th>\n",
       "      <th></th>\n",
       "      <th></th>\n",
       "      <th></th>\n",
       "      <th></th>\n",
       "      <th></th>\n",
       "      <th></th>\n",
       "      <th></th>\n",
       "      <th></th>\n",
       "      <th></th>\n",
       "      <th></th>\n",
       "      <th></th>\n",
       "      <th></th>\n",
       "      <th></th>\n",
       "      <th></th>\n",
       "    </tr>\n",
       "  </thead>\n",
       "  <tbody>\n",
       "    <tr>\n",
       "      <th>1</th>\n",
       "      <td>0</td>\n",
       "      <td>0</td>\n",
       "      <td>0</td>\n",
       "      <td>0</td>\n",
       "      <td>0</td>\n",
       "      <td>0</td>\n",
       "      <td>0</td>\n",
       "      <td>0</td>\n",
       "      <td>0</td>\n",
       "      <td>0</td>\n",
       "      <td>...</td>\n",
       "      <td>0</td>\n",
       "      <td>0</td>\n",
       "      <td>1</td>\n",
       "      <td>0</td>\n",
       "      <td>1</td>\n",
       "      <td>0</td>\n",
       "      <td>0</td>\n",
       "      <td>0</td>\n",
       "      <td>0</td>\n",
       "      <td>0</td>\n",
       "    </tr>\n",
       "    <tr>\n",
       "      <th>2</th>\n",
       "      <td>0</td>\n",
       "      <td>0</td>\n",
       "      <td>0</td>\n",
       "      <td>0</td>\n",
       "      <td>0</td>\n",
       "      <td>0</td>\n",
       "      <td>0</td>\n",
       "      <td>0</td>\n",
       "      <td>0</td>\n",
       "      <td>0</td>\n",
       "      <td>...</td>\n",
       "      <td>0</td>\n",
       "      <td>0</td>\n",
       "      <td>0</td>\n",
       "      <td>0</td>\n",
       "      <td>0</td>\n",
       "      <td>0</td>\n",
       "      <td>0</td>\n",
       "      <td>0</td>\n",
       "      <td>0</td>\n",
       "      <td>0</td>\n",
       "    </tr>\n",
       "    <tr>\n",
       "      <th>3</th>\n",
       "      <td>0</td>\n",
       "      <td>0</td>\n",
       "      <td>0</td>\n",
       "      <td>0</td>\n",
       "      <td>0</td>\n",
       "      <td>1</td>\n",
       "      <td>0</td>\n",
       "      <td>0</td>\n",
       "      <td>0</td>\n",
       "      <td>0</td>\n",
       "      <td>...</td>\n",
       "      <td>0</td>\n",
       "      <td>0</td>\n",
       "      <td>1</td>\n",
       "      <td>0</td>\n",
       "      <td>0</td>\n",
       "      <td>0</td>\n",
       "      <td>0</td>\n",
       "      <td>0</td>\n",
       "      <td>0</td>\n",
       "      <td>0</td>\n",
       "    </tr>\n",
       "    <tr>\n",
       "      <th>4</th>\n",
       "      <td>0</td>\n",
       "      <td>0</td>\n",
       "      <td>0</td>\n",
       "      <td>0</td>\n",
       "      <td>0</td>\n",
       "      <td>0</td>\n",
       "      <td>0</td>\n",
       "      <td>0</td>\n",
       "      <td>0</td>\n",
       "      <td>0</td>\n",
       "      <td>...</td>\n",
       "      <td>0</td>\n",
       "      <td>0</td>\n",
       "      <td>0</td>\n",
       "      <td>0</td>\n",
       "      <td>0</td>\n",
       "      <td>0</td>\n",
       "      <td>0</td>\n",
       "      <td>0</td>\n",
       "      <td>0</td>\n",
       "      <td>0</td>\n",
       "    </tr>\n",
       "    <tr>\n",
       "      <th>5</th>\n",
       "      <td>0</td>\n",
       "      <td>0</td>\n",
       "      <td>0</td>\n",
       "      <td>0</td>\n",
       "      <td>0</td>\n",
       "      <td>0</td>\n",
       "      <td>0</td>\n",
       "      <td>0</td>\n",
       "      <td>0</td>\n",
       "      <td>0</td>\n",
       "      <td>...</td>\n",
       "      <td>0</td>\n",
       "      <td>0</td>\n",
       "      <td>0</td>\n",
       "      <td>0</td>\n",
       "      <td>0</td>\n",
       "      <td>0</td>\n",
       "      <td>0</td>\n",
       "      <td>0</td>\n",
       "      <td>0</td>\n",
       "      <td>0</td>\n",
       "    </tr>\n",
       "    <tr>\n",
       "      <th>...</th>\n",
       "      <td>...</td>\n",
       "      <td>...</td>\n",
       "      <td>...</td>\n",
       "      <td>...</td>\n",
       "      <td>...</td>\n",
       "      <td>...</td>\n",
       "      <td>...</td>\n",
       "      <td>...</td>\n",
       "      <td>...</td>\n",
       "      <td>...</td>\n",
       "      <td>...</td>\n",
       "      <td>...</td>\n",
       "      <td>...</td>\n",
       "      <td>...</td>\n",
       "      <td>...</td>\n",
       "      <td>...</td>\n",
       "      <td>...</td>\n",
       "      <td>...</td>\n",
       "      <td>...</td>\n",
       "      <td>...</td>\n",
       "      <td>...</td>\n",
       "    </tr>\n",
       "    <tr>\n",
       "      <th>5145</th>\n",
       "      <td>0</td>\n",
       "      <td>0</td>\n",
       "      <td>0</td>\n",
       "      <td>0</td>\n",
       "      <td>0</td>\n",
       "      <td>0</td>\n",
       "      <td>0</td>\n",
       "      <td>0</td>\n",
       "      <td>0</td>\n",
       "      <td>0</td>\n",
       "      <td>...</td>\n",
       "      <td>0</td>\n",
       "      <td>0</td>\n",
       "      <td>0</td>\n",
       "      <td>0</td>\n",
       "      <td>0</td>\n",
       "      <td>0</td>\n",
       "      <td>0</td>\n",
       "      <td>0</td>\n",
       "      <td>0</td>\n",
       "      <td>0</td>\n",
       "    </tr>\n",
       "    <tr>\n",
       "      <th>5146</th>\n",
       "      <td>0</td>\n",
       "      <td>0</td>\n",
       "      <td>0</td>\n",
       "      <td>0</td>\n",
       "      <td>0</td>\n",
       "      <td>0</td>\n",
       "      <td>0</td>\n",
       "      <td>0</td>\n",
       "      <td>0</td>\n",
       "      <td>0</td>\n",
       "      <td>...</td>\n",
       "      <td>0</td>\n",
       "      <td>0</td>\n",
       "      <td>0</td>\n",
       "      <td>0</td>\n",
       "      <td>0</td>\n",
       "      <td>0</td>\n",
       "      <td>0</td>\n",
       "      <td>0</td>\n",
       "      <td>0</td>\n",
       "      <td>0</td>\n",
       "    </tr>\n",
       "    <tr>\n",
       "      <th>5147</th>\n",
       "      <td>0</td>\n",
       "      <td>0</td>\n",
       "      <td>0</td>\n",
       "      <td>0</td>\n",
       "      <td>0</td>\n",
       "      <td>0</td>\n",
       "      <td>0</td>\n",
       "      <td>0</td>\n",
       "      <td>0</td>\n",
       "      <td>0</td>\n",
       "      <td>...</td>\n",
       "      <td>0</td>\n",
       "      <td>0</td>\n",
       "      <td>0</td>\n",
       "      <td>0</td>\n",
       "      <td>0</td>\n",
       "      <td>0</td>\n",
       "      <td>0</td>\n",
       "      <td>0</td>\n",
       "      <td>0</td>\n",
       "      <td>0</td>\n",
       "    </tr>\n",
       "    <tr>\n",
       "      <th>5148</th>\n",
       "      <td>0</td>\n",
       "      <td>0</td>\n",
       "      <td>0</td>\n",
       "      <td>0</td>\n",
       "      <td>0</td>\n",
       "      <td>0</td>\n",
       "      <td>0</td>\n",
       "      <td>0</td>\n",
       "      <td>0</td>\n",
       "      <td>0</td>\n",
       "      <td>...</td>\n",
       "      <td>0</td>\n",
       "      <td>0</td>\n",
       "      <td>0</td>\n",
       "      <td>0</td>\n",
       "      <td>0</td>\n",
       "      <td>0</td>\n",
       "      <td>0</td>\n",
       "      <td>0</td>\n",
       "      <td>0</td>\n",
       "      <td>0</td>\n",
       "    </tr>\n",
       "    <tr>\n",
       "      <th>5149</th>\n",
       "      <td>0</td>\n",
       "      <td>0</td>\n",
       "      <td>0</td>\n",
       "      <td>0</td>\n",
       "      <td>0</td>\n",
       "      <td>0</td>\n",
       "      <td>0</td>\n",
       "      <td>0</td>\n",
       "      <td>1</td>\n",
       "      <td>0</td>\n",
       "      <td>...</td>\n",
       "      <td>0</td>\n",
       "      <td>0</td>\n",
       "      <td>0</td>\n",
       "      <td>0</td>\n",
       "      <td>0</td>\n",
       "      <td>0</td>\n",
       "      <td>0</td>\n",
       "      <td>0</td>\n",
       "      <td>0</td>\n",
       "      <td>0</td>\n",
       "    </tr>\n",
       "  </tbody>\n",
       "</table>\n",
       "<p>5149 rows × 714 columns</p>\n",
       "</div>"
      ],
      "text/plain": [
       "article_id  0.0     2.0     4.0     8.0     9.0     12.0    14.0    15.0    \\\n",
       "user_id                                                                      \n",
       "1                0       0       0       0       0       0       0       0   \n",
       "2                0       0       0       0       0       0       0       0   \n",
       "3                0       0       0       0       0       1       0       0   \n",
       "4                0       0       0       0       0       0       0       0   \n",
       "5                0       0       0       0       0       0       0       0   \n",
       "...            ...     ...     ...     ...     ...     ...     ...     ...   \n",
       "5145             0       0       0       0       0       0       0       0   \n",
       "5146             0       0       0       0       0       0       0       0   \n",
       "5147             0       0       0       0       0       0       0       0   \n",
       "5148             0       0       0       0       0       0       0       0   \n",
       "5149             0       0       0       0       0       0       0       0   \n",
       "\n",
       "article_id  16.0    18.0    ...  1434.0  1435.0  1436.0  1437.0  1439.0  \\\n",
       "user_id                     ...                                           \n",
       "1                0       0  ...       0       0       1       0       1   \n",
       "2                0       0  ...       0       0       0       0       0   \n",
       "3                0       0  ...       0       0       1       0       0   \n",
       "4                0       0  ...       0       0       0       0       0   \n",
       "5                0       0  ...       0       0       0       0       0   \n",
       "...            ...     ...  ...     ...     ...     ...     ...     ...   \n",
       "5145             0       0  ...       0       0       0       0       0   \n",
       "5146             0       0  ...       0       0       0       0       0   \n",
       "5147             0       0  ...       0       0       0       0       0   \n",
       "5148             0       0  ...       0       0       0       0       0   \n",
       "5149             1       0  ...       0       0       0       0       0   \n",
       "\n",
       "article_id  1440.0  1441.0  1442.0  1443.0  1444.0  \n",
       "user_id                                             \n",
       "1                0       0       0       0       0  \n",
       "2                0       0       0       0       0  \n",
       "3                0       0       0       0       0  \n",
       "4                0       0       0       0       0  \n",
       "5                0       0       0       0       0  \n",
       "...            ...     ...     ...     ...     ...  \n",
       "5145             0       0       0       0       0  \n",
       "5146             0       0       0       0       0  \n",
       "5147             0       0       0       0       0  \n",
       "5148             0       0       0       0       0  \n",
       "5149             0       0       0       0       0  \n",
       "\n",
       "[5149 rows x 714 columns]"
      ]
     },
     "metadata": {},
     "execution_count": 31
    }
   ],
   "metadata": {}
  },
  {
   "cell_type": "code",
   "execution_count": 32,
   "source": [
    "# create the user-article matrix with 1's and 0's\r\n",
    "\r\n",
    "def create_user_item_matrix(df):\r\n",
    "    '''\r\n",
    "    INPUT:\r\n",
    "    df - pandas dataframe with article_id, title, user_id columns\r\n",
    "    \r\n",
    "    OUTPUT:\r\n",
    "    user_item - user item matrix \r\n",
    "    \r\n",
    "    Description:\r\n",
    "    Return a matrix with user ids as rows and article ids on the columns with 1 values where a user interacted with \r\n",
    "    an article and a 0 otherwise\r\n",
    "    '''\r\n",
    "    # Goupby and create Multindex, applying aggregate function to get first occurrence. Then use method `unstack` to create\r\n",
    "    # a new level of column labels whose inner-most level consists of the pivoted index labels, while replacing NaN's with 0's\r\n",
    "    # where the unstack produces missing values. Then, convert the strings to numeric, replace them with 1 and cast the Series dtype to int\r\n",
    "    user_item = df.groupby(['user_id', 'article_id'])['title'].agg('first').unstack(fill_value=0).apply(pd.to_numeric, errors='coerce').fillna(1).astype(int)\r\n",
    "    \r\n",
    "    return user_item # return the user_item matrix \r\n",
    "\r\n",
    "user_item = create_user_item_matrix(df)"
   ],
   "outputs": [],
   "metadata": {
    "collapsed": true
   }
  },
  {
   "cell_type": "code",
   "execution_count": 33,
   "source": [
    "## Tests: You should just need to run this cell.  Don't change the code.\r\n",
    "assert user_item.shape[0] == 5149, \"Oops!  The number of users in the user-article matrix doesn't look right.\"\r\n",
    "assert user_item.shape[1] == 714, \"Oops!  The number of articles in the user-article matrix doesn't look right.\"\r\n",
    "assert user_item.sum(axis=1)[1] == 36, \"Oops!  The number of articles seen by user 1 doesn't look right.\"\r\n",
    "print(\"You have passed our quick tests!  Please proceed!\")"
   ],
   "outputs": [
    {
     "output_type": "stream",
     "name": "stdout",
     "text": [
      "You have passed our quick tests!  Please proceed!\n"
     ]
    }
   ],
   "metadata": {
    "collapsed": true
   }
  },
  {
   "cell_type": "markdown",
   "source": [
    "`2.` Complete the function below which should take a user_id and provide an ordered list of the most similar users to that user (from most similar to least similar).  The returned result should not contain the provided user_id, as we know that each user is similar to him/herself. Because the results for each user here are binary, it (perhaps) makes sense to compute similarity as the dot product of two users. \n",
    "\n",
    "Use the tests to test your function."
   ],
   "metadata": {}
  },
  {
   "cell_type": "code",
   "execution_count": 34,
   "source": [
    "def find_similar_users(user_id, user_item=user_item):\r\n",
    "    '''\r\n",
    "    INPUT:\r\n",
    "    user_id - (int) a user_id\r\n",
    "    user_item - (pandas dataframe) matrix of users by articles: \r\n",
    "                1's when a user has interacted with an article, 0 otherwise\r\n",
    "    \r\n",
    "    OUTPUT:\r\n",
    "    similar_users - (list) an ordered list where the closest users (largest dot product users)\r\n",
    "                    are listed first\r\n",
    "    \r\n",
    "    Description:\r\n",
    "    Computes the similarity of every pair of users based on the dot product\r\n",
    "    Returns an ordered\r\n",
    "    \r\n",
    "    '''\r\n",
    "    # compute similarity of each user to the provided user\r\n",
    "    users_similarity = user_item.dot(user_item.loc[user_id])\r\n",
    "\r\n",
    "    # sort by similarity\r\n",
    "    users_similarity.sort_values(ascending=False, inplace=True)\r\n",
    "\r\n",
    "    # create list of just the ids\r\n",
    "    most_similar_users = users_similarity.index.tolist()\r\n",
    "   \r\n",
    "    # remove the own user's id\r\n",
    "    del most_similar_users[0]\r\n",
    "       \r\n",
    "    return most_similar_users # return a list of the users in order from most to least similar\r\n"
   ],
   "outputs": [],
   "metadata": {
    "collapsed": true
   }
  },
  {
   "cell_type": "code",
   "execution_count": 35,
   "source": [
    "# Do a spot check of your function\r\n",
    "print(\"The 10 most similar users to user 1 are: {}\".format(find_similar_users(1)[:10]))\r\n",
    "print(\"The 5 most similar users to user 3933 are: {}\".format(find_similar_users(3933)[:5]))\r\n",
    "print(\"The 3 most similar users to user 46 are: {}\".format(find_similar_users(46)[:3]))"
   ],
   "outputs": [
    {
     "output_type": "stream",
     "name": "stdout",
     "text": [
      "The 10 most similar users to user 1 are: [3933, 23, 3782, 203, 4459, 3870, 131, 4201, 46, 5041]\n",
      "The 5 most similar users to user 3933 are: [3933, 23, 3782, 203, 4459]\n",
      "The 3 most similar users to user 46 are: [4201, 3782, 23]\n"
     ]
    }
   ],
   "metadata": {
    "collapsed": true
   }
  },
  {
   "cell_type": "code",
   "execution_count": 36,
   "source": [
    "df[df.article_id.astype(str) == '1024.0'].title"
   ],
   "outputs": [
    {
     "output_type": "execute_result",
     "data": {
      "text/plain": [
       "2734     using deep learning to reconstruct high-resolu...\n",
       "3086     using deep learning to reconstruct high-resolu...\n",
       "3954     using deep learning to reconstruct high-resolu...\n",
       "4127     using deep learning to reconstruct high-resolu...\n",
       "4486     using deep learning to reconstruct high-resolu...\n",
       "                               ...                        \n",
       "42763    using deep learning to reconstruct high-resolu...\n",
       "42809    using deep learning to reconstruct high-resolu...\n",
       "44312    using deep learning to reconstruct high-resolu...\n",
       "45599    using deep learning to reconstruct high-resolu...\n",
       "45688    using deep learning to reconstruct high-resolu...\n",
       "Name: title, Length: 74, dtype: object"
      ]
     },
     "metadata": {},
     "execution_count": 36
    }
   ],
   "metadata": {}
  },
  {
   "cell_type": "markdown",
   "source": [
    "`3.` Now that you have a function that provides the most similar users to each user, you will want to use these users to find articles you can recommend.  Complete the functions below to return the articles you would recommend to each user. "
   ],
   "metadata": {}
  },
  {
   "cell_type": "code",
   "execution_count": 37,
   "source": [
    "art_id = ['1024.0', '1176.0', '1305.0', '1314.0', '1422.0', '1427.0']\r\n",
    "# art_id_indexes = [df.article_id.astype(str).eq(i).idxmax() for i in art_id]\r\n",
    "# [df.title.iloc[i] for i in art_id_indexes]\r\n",
    "df[df.article_id.astype(str).isin(art_id)].title.unique().tolist()"
   ],
   "outputs": [
    {
     "output_type": "execute_result",
     "data": {
      "text/plain": [
       "['healthcare python streaming application demo',\n",
       " 'use xgboost, scikit-learn & ibm watson machine learning apis',\n",
       " 'gosales transactions for naive bayes model',\n",
       " 'use r dataframes & ibm watson natural language understanding',\n",
       " 'build a python app on the streaming analytics service',\n",
       " 'using deep learning to reconstruct high-resolution audio']"
      ]
     },
     "metadata": {},
     "execution_count": 37
    }
   ],
   "metadata": {}
  },
  {
   "cell_type": "code",
   "execution_count": 38,
   "source": [
    "user_item.columns[user_item.loc[20].eq(1)].astype(str).tolist()"
   ],
   "outputs": [
    {
     "output_type": "execute_result",
     "data": {
      "text/plain": [
       "['232.0', '844.0', '1320.0']"
      ]
     },
     "metadata": {},
     "execution_count": 38
    }
   ],
   "metadata": {}
  },
  {
   "cell_type": "code",
   "execution_count": 39,
   "source": [
    "def get_article_names(article_ids, df=df):\r\n",
    "    '''\r\n",
    "    INPUT:\r\n",
    "    article_ids - (list) a list of article ids\r\n",
    "    df - (pandas dataframe) df as defined at the top of the notebook\r\n",
    "    \r\n",
    "    OUTPUT:\r\n",
    "    article_names - (list) a list of article names associated with the list of article ids \r\n",
    "                    (this is identified by the title column)\r\n",
    "    '''\r\n",
    "    # article_names = df[df.article_id.astype(str).isin(article_ids)].title.unique().tolist()\r\n",
    "    \r\n",
    "    # To provide article_names in the same order as the article_ids input list:\r\n",
    "    art_id_indexes = [df.article_id.astype(str).eq(i).idxmax() for i in article_ids]\r\n",
    "    article_names = [df.title.iloc[i] for i in art_id_indexes]\r\n",
    "    \r\n",
    "    return article_names # Return the article names associated with list of article ids\r\n",
    "\r\n",
    "\r\n",
    "def get_user_articles(user_id, user_item=user_item):\r\n",
    "    '''\r\n",
    "    INPUT:\r\n",
    "    user_id - (int) a user id\r\n",
    "    user_item - (pandas dataframe) matrix of users by articles: \r\n",
    "                1's when a user has interacted with an article, 0 otherwise\r\n",
    "    \r\n",
    "    OUTPUT:\r\n",
    "    article_ids - (list) a list of the article ids seen by the user\r\n",
    "    article_names - (list) a list of article names associated with the list of article ids \r\n",
    "    \r\n",
    "    Description:\r\n",
    "    Provides a list of the article_ids and article titles that have been seen by a user\r\n",
    "    '''\r\n",
    "    article_ids = user_item.columns[user_item.loc[user_id].eq(1)].astype(str).tolist()\r\n",
    "    article_names = get_article_names(article_ids)\r\n",
    "    \r\n",
    "    return article_ids, article_names # return the ids and names\r\n",
    "\r\n",
    "\r\n",
    "def user_user_recs(user_id, m=10):\r\n",
    "    '''\r\n",
    "    INPUT:\r\n",
    "    user_id - (int) a user id\r\n",
    "    m - (int) the number of recommendations you want for the user\r\n",
    "    \r\n",
    "    OUTPUT:\r\n",
    "    recs - (list) a list of recommendations for the user\r\n",
    "    \r\n",
    "    Description:\r\n",
    "    Loops through the users based on closeness to the input user_id\r\n",
    "    For each user - finds articles the user hasn't seen before and provides them as recs\r\n",
    "    Does this until m recommendations are found\r\n",
    "    \r\n",
    "    Notes:\r\n",
    "    Users who are the same closeness are chosen arbitrarily as the 'next' user\r\n",
    "    \r\n",
    "    For the user where the number of recommended articles starts below m \r\n",
    "    and ends exceeding m, the last items are chosen arbitrarily\r\n",
    "    \r\n",
    "    '''\r\n",
    "    # first find similar users to user_id\r\n",
    "    similar_users = find_similar_users(user_id)\r\n",
    "    # Get the articles user_id has already seen\r\n",
    "    seen_article_ids = get_user_articles(user_id)[0]\r\n",
    "    recs = []\r\n",
    "    # Loop through similar_users \r\n",
    "    for usr in similar_users:\r\n",
    "        # getting articles each similar user has seen\r\n",
    "        usr_article_ids = get_user_articles(usr)[0]\r\n",
    "        # use set properties to find the articles user_id has not seen\r\n",
    "        not_seen_articles = list(set(usr_article_ids) - set(seen_article_ids))\r\n",
    "        # check if there are actually articles user_id has not seen\r\n",
    "        if len(not_seen_articles) > 0:\r\n",
    "            # append new recommendations\r\n",
    "            recs.extend(not_seen_articles)\r\n",
    "            # if we have m recs break\r\n",
    "            if len(recs) >= m:\r\n",
    "                break\r\n",
    "            \r\n",
    "    recs = recs[:m]\r\n",
    "    \r\n",
    "    return recs # return your recommendations for this user_id "
   ],
   "outputs": [],
   "metadata": {
    "collapsed": true
   }
  },
  {
   "cell_type": "code",
   "execution_count": 40,
   "source": [
    "# Check Results\r\n",
    "get_article_names(user_user_recs(1, 10)) # Return 10 recommendations for user 1"
   ],
   "outputs": [
    {
     "output_type": "execute_result",
     "data": {
      "text/plain": [
       "['improving real-time object detection with yolo',\n",
       " 'times world university ranking analysis',\n",
       " 'get started with streams designer by following this roadmap',\n",
       " 'machine learning exercises in python, part 1',\n",
       " 'challenges in deep learning',\n",
       " 'easy json loading and social sharing in dsx notebooks',\n",
       " 'using machine learning to predict parking difficulty',\n",
       " 'programmatic evaluation using watson conversation',\n",
       " '520    using notebooks with pixiedust for fast, flexi...\\r\\nName: title, dtype: object',\n",
       " 'simple graphing with ipython and\\xa0pandas']"
      ]
     },
     "metadata": {},
     "execution_count": 40
    }
   ],
   "metadata": {
    "collapsed": true
   }
  },
  {
   "cell_type": "code",
   "execution_count": 41,
   "source": [
    "# Test your functions here - No need to change this code - just run this cell\r\n",
    "assert set(get_article_names(['1024.0', '1176.0', '1305.0', '1314.0', '1422.0', '1427.0'])) == set(['using deep learning to reconstruct high-resolution audio', 'build a python app on the streaming analytics service', 'gosales transactions for naive bayes model', 'healthcare python streaming application demo', 'use r dataframes & ibm watson natural language understanding', 'use xgboost, scikit-learn & ibm watson machine learning apis']), \"Oops! Your the get_article_names function doesn't work quite how we expect.\"\r\n",
    "assert set(get_article_names(['1320.0', '232.0', '844.0'])) == set(['housing (2015): united states demographic measures','self-service data preparation with ibm data refinery','use the cloudant-spark connector in python notebook']), \"Oops! Your the get_article_names function doesn't work quite how we expect.\"\r\n",
    "assert set(get_user_articles(20)[0]) == set(['1320.0', '232.0', '844.0'])\r\n",
    "assert set(get_user_articles(20)[1]) == set(['housing (2015): united states demographic measures', 'self-service data preparation with ibm data refinery','use the cloudant-spark connector in python notebook'])\r\n",
    "assert set(get_user_articles(2)[0]) == set(['1024.0', '1176.0', '1305.0', '1314.0', '1422.0', '1427.0'])\r\n",
    "assert set(get_user_articles(2)[1]) == set(['using deep learning to reconstruct high-resolution audio', 'build a python app on the streaming analytics service', 'gosales transactions for naive bayes model', 'healthcare python streaming application demo', 'use r dataframes & ibm watson natural language understanding', 'use xgboost, scikit-learn & ibm watson machine learning apis'])\r\n",
    "print(\"If this is all you see, you passed all of our tests!  Nice job!\")"
   ],
   "outputs": [
    {
     "output_type": "stream",
     "name": "stdout",
     "text": [
      "If this is all you see, you passed all of our tests!  Nice job!\n"
     ]
    }
   ],
   "metadata": {
    "collapsed": true
   }
  },
  {
   "cell_type": "markdown",
   "source": [
    "`4.` Now we are going to improve the consistency of the **user_user_recs** function from above.  \n",
    "\n",
    "* Instead of arbitrarily choosing when we obtain users who are all the same closeness to a given user - choose the users that have the most total article interactions before choosing those with fewer article interactions.\n",
    "\n",
    "\n",
    "* Instead of arbitrarily choosing articles from the user where the number of recommended articles starts below m and ends exceeding m, choose articles with the articles with the most total interactions before choosing those with fewer total interactions. This ranking should be  what would be obtained from the **top_articles** function you wrote earlier."
   ],
   "metadata": {}
  },
  {
   "cell_type": "code",
   "execution_count": 42,
   "source": [
    "users_similarity = user_item.dot(user_item.loc[1])\r\n",
    "df_neighb = users_similarity.sort_values(ascending=False).drop(1).to_frame('similarity').rename_axis('neib_id')\r\n",
    "df_neighb"
   ],
   "outputs": [
    {
     "output_type": "execute_result",
     "data": {
      "text/html": [
       "<div>\n",
       "<style scoped>\n",
       "    .dataframe tbody tr th:only-of-type {\n",
       "        vertical-align: middle;\n",
       "    }\n",
       "\n",
       "    .dataframe tbody tr th {\n",
       "        vertical-align: top;\n",
       "    }\n",
       "\n",
       "    .dataframe thead th {\n",
       "        text-align: right;\n",
       "    }\n",
       "</style>\n",
       "<table border=\"1\" class=\"dataframe\">\n",
       "  <thead>\n",
       "    <tr style=\"text-align: right;\">\n",
       "      <th></th>\n",
       "      <th>similarity</th>\n",
       "    </tr>\n",
       "    <tr>\n",
       "      <th>neib_id</th>\n",
       "      <th></th>\n",
       "    </tr>\n",
       "  </thead>\n",
       "  <tbody>\n",
       "    <tr>\n",
       "      <th>3933</th>\n",
       "      <td>35</td>\n",
       "    </tr>\n",
       "    <tr>\n",
       "      <th>23</th>\n",
       "      <td>17</td>\n",
       "    </tr>\n",
       "    <tr>\n",
       "      <th>3782</th>\n",
       "      <td>17</td>\n",
       "    </tr>\n",
       "    <tr>\n",
       "      <th>203</th>\n",
       "      <td>15</td>\n",
       "    </tr>\n",
       "    <tr>\n",
       "      <th>4459</th>\n",
       "      <td>15</td>\n",
       "    </tr>\n",
       "    <tr>\n",
       "      <th>...</th>\n",
       "      <td>...</td>\n",
       "    </tr>\n",
       "    <tr>\n",
       "      <th>2326</th>\n",
       "      <td>0</td>\n",
       "    </tr>\n",
       "    <tr>\n",
       "      <th>2327</th>\n",
       "      <td>0</td>\n",
       "    </tr>\n",
       "    <tr>\n",
       "      <th>2328</th>\n",
       "      <td>0</td>\n",
       "    </tr>\n",
       "    <tr>\n",
       "      <th>2329</th>\n",
       "      <td>0</td>\n",
       "    </tr>\n",
       "    <tr>\n",
       "      <th>5149</th>\n",
       "      <td>0</td>\n",
       "    </tr>\n",
       "  </tbody>\n",
       "</table>\n",
       "<p>5148 rows × 1 columns</p>\n",
       "</div>"
      ],
      "text/plain": [
       "         similarity\n",
       "neib_id            \n",
       "3933             35\n",
       "23               17\n",
       "3782             17\n",
       "203              15\n",
       "4459             15\n",
       "...             ...\n",
       "2326              0\n",
       "2327              0\n",
       "2328              0\n",
       "2329              0\n",
       "5149              0\n",
       "\n",
       "[5148 rows x 1 columns]"
      ]
     },
     "metadata": {},
     "execution_count": 42
    }
   ],
   "metadata": {}
  },
  {
   "cell_type": "code",
   "execution_count": 43,
   "source": [
    "df_neighb[\"num_iter\"] = df.user_id.value_counts().to_frame('num_interactions').rename_axis('neib_id').reindex(df_neighb.index)\r\n",
    "df_neighb.sort_values(by=[\"similarity\", \"num_iter\"], ascending=False, inplace=True)\r\n",
    "# df_neighb[\"num_iter\"] = df2[\"num_interactions\"]\r\n",
    "df_neighb.reset_index(inplace=True)\r\n",
    "# df_neighb = df_neighb.reset_index()\r\n",
    "df_neighb"
   ],
   "outputs": [
    {
     "output_type": "execute_result",
     "data": {
      "text/html": [
       "<div>\n",
       "<style scoped>\n",
       "    .dataframe tbody tr th:only-of-type {\n",
       "        vertical-align: middle;\n",
       "    }\n",
       "\n",
       "    .dataframe tbody tr th {\n",
       "        vertical-align: top;\n",
       "    }\n",
       "\n",
       "    .dataframe thead th {\n",
       "        text-align: right;\n",
       "    }\n",
       "</style>\n",
       "<table border=\"1\" class=\"dataframe\">\n",
       "  <thead>\n",
       "    <tr style=\"text-align: right;\">\n",
       "      <th></th>\n",
       "      <th>neib_id</th>\n",
       "      <th>similarity</th>\n",
       "      <th>num_iter</th>\n",
       "    </tr>\n",
       "  </thead>\n",
       "  <tbody>\n",
       "    <tr>\n",
       "      <th>0</th>\n",
       "      <td>3933</td>\n",
       "      <td>35</td>\n",
       "      <td>45</td>\n",
       "    </tr>\n",
       "    <tr>\n",
       "      <th>1</th>\n",
       "      <td>23</td>\n",
       "      <td>17</td>\n",
       "      <td>364</td>\n",
       "    </tr>\n",
       "    <tr>\n",
       "      <th>2</th>\n",
       "      <td>3782</td>\n",
       "      <td>17</td>\n",
       "      <td>363</td>\n",
       "    </tr>\n",
       "    <tr>\n",
       "      <th>3</th>\n",
       "      <td>203</td>\n",
       "      <td>15</td>\n",
       "      <td>160</td>\n",
       "    </tr>\n",
       "    <tr>\n",
       "      <th>4</th>\n",
       "      <td>4459</td>\n",
       "      <td>15</td>\n",
       "      <td>158</td>\n",
       "    </tr>\n",
       "    <tr>\n",
       "      <th>...</th>\n",
       "      <td>...</td>\n",
       "      <td>...</td>\n",
       "      <td>...</td>\n",
       "    </tr>\n",
       "    <tr>\n",
       "      <th>5143</th>\n",
       "      <td>2315</td>\n",
       "      <td>0</td>\n",
       "      <td>1</td>\n",
       "    </tr>\n",
       "    <tr>\n",
       "      <th>5144</th>\n",
       "      <td>2323</td>\n",
       "      <td>0</td>\n",
       "      <td>1</td>\n",
       "    </tr>\n",
       "    <tr>\n",
       "      <th>5145</th>\n",
       "      <td>2327</td>\n",
       "      <td>0</td>\n",
       "      <td>1</td>\n",
       "    </tr>\n",
       "    <tr>\n",
       "      <th>5146</th>\n",
       "      <td>2329</td>\n",
       "      <td>0</td>\n",
       "      <td>1</td>\n",
       "    </tr>\n",
       "    <tr>\n",
       "      <th>5147</th>\n",
       "      <td>5149</td>\n",
       "      <td>0</td>\n",
       "      <td>1</td>\n",
       "    </tr>\n",
       "  </tbody>\n",
       "</table>\n",
       "<p>5148 rows × 3 columns</p>\n",
       "</div>"
      ],
      "text/plain": [
       "      neib_id  similarity  num_iter\n",
       "0        3933          35        45\n",
       "1          23          17       364\n",
       "2        3782          17       363\n",
       "3         203          15       160\n",
       "4        4459          15       158\n",
       "...       ...         ...       ...\n",
       "5143     2315           0         1\n",
       "5144     2323           0         1\n",
       "5145     2327           0         1\n",
       "5146     2329           0         1\n",
       "5147     5149           0         1\n",
       "\n",
       "[5148 rows x 3 columns]"
      ]
     },
     "metadata": {},
     "execution_count": 43
    }
   ],
   "metadata": {}
  },
  {
   "cell_type": "code",
   "execution_count": 44,
   "source": [
    "def get_top_sorted_users(user_id, df=df, user_item=user_item):\r\n",
    "    '''\r\n",
    "    INPUT:\r\n",
    "    user_id - (int)\r\n",
    "    df - (pandas dataframe) df as defined at the top of the notebook \r\n",
    "    user_item - (pandas dataframe) matrix of users by articles: \r\n",
    "            1's when a user has interacted with an article, 0 otherwise\r\n",
    "    \r\n",
    "            \r\n",
    "    OUTPUT:\r\n",
    "    neighbors_df - (pandas dataframe) a dataframe with:\r\n",
    "                    neighbor_id - is a neighbor user_id\r\n",
    "                    similarity - measure of the similarity of each user to the provided user_id\r\n",
    "                    num_interactions - the number of articles viewed by the user - if a u\r\n",
    "                    \r\n",
    "    Other Details - sort the neighbors_df by the similarity and then by number of interactions where \r\n",
    "                    highest of each is higher in the dataframe\r\n",
    "     \r\n",
    "    '''\r\n",
    "    # compute similarity of each user to the provided user\r\n",
    "    users_similarity = user_item.dot(user_item.loc[user_id])\r\n",
    "\r\n",
    "    # sort by similarity, remove the own user's id, create new dataframe, rename the index\r\n",
    "    neighbors_df = users_similarity.sort_values(ascending=False).drop(user_id).to_frame('similarity').rename_axis('neighbor_id')\r\n",
    "\r\n",
    "    # find the number of articles viewed by the user, create new dataframe, rename the index, reindex as in neighbors_df\r\n",
    "    neighbors_df[\"num_interactions\"] = df.user_id.value_counts().to_frame('num_interactions').rename_axis('neighbor_id').reindex(neighbors_df.index)\r\n",
    "    \r\n",
    "    # sort the neighbors_df by the similarity and then by number of interactions where highest of each is higher in the dataframe\r\n",
    "    neighbors_df.sort_values(by=[\"similarity\", \"num_interactions\"], ascending=False, inplace=True)\r\n",
    "    \r\n",
    "    return neighbors_df.reset_index() # Return the dataframe specified in the doc_string\r\n",
    "\r\n",
    "\r\n",
    "def user_user_recs_part2(user_id, m=10):\r\n",
    "    '''\r\n",
    "    INPUT:\r\n",
    "    user_id - (int) a user id\r\n",
    "    m - (int) the number of recommendations you want for the user\r\n",
    "    \r\n",
    "    OUTPUT:\r\n",
    "    recs - (list) a list of recommendations for the user by article id\r\n",
    "    rec_names - (list) a list of recommendations for the user by article title\r\n",
    "    \r\n",
    "    Description:\r\n",
    "    Loops through the users based on closeness to the input user_id\r\n",
    "    For each user - finds articles the user hasn't seen before and provides them as recs\r\n",
    "    Does this until m recommendations are found\r\n",
    "    \r\n",
    "    Notes:\r\n",
    "    * Choose the users that have the most total article interactions \r\n",
    "    before choosing those with fewer article interactions.\r\n",
    "\r\n",
    "    * Choose articles with the articles with the most total interactions \r\n",
    "    before choosing those with fewer total interactions. \r\n",
    "   \r\n",
    "    '''\r\n",
    "    # Get the neighbors\r\n",
    "    sorted_neighbors = get_top_sorted_users(user_id)\r\n",
    "    # Get the articles user_id has already seen\r\n",
    "    seen_article_ids = get_user_articles(user_id)[0]\r\n",
    "    # Get article ids sorted by most interactions\r\n",
    "    sorted_article_ids = get_top_article_ids(unique_articles)\r\n",
    "    # Create a dictionary that maps article_ids to indices\r\n",
    "    pop_articles = {v:i for i, v in enumerate(sorted_article_ids)}\r\n",
    "    \r\n",
    "    recs = []\r\n",
    "    # Loop through similar_users \r\n",
    "    for usr in sorted_neighbors[\"neighbor_id\"]:\r\n",
    "        # getting articles each similar user has seen\r\n",
    "        usr_article_ids = get_user_articles(usr)[0]\r\n",
    "        # use set properties to find the articles user_id has not seen\r\n",
    "        not_seen_articles = list(set(usr_article_ids) - set(seen_article_ids))\r\n",
    "        # check if there are actually articles user_id has not seen\r\n",
    "        if len(not_seen_articles) > 0:\r\n",
    "            # append new recommendations\r\n",
    "            recs.extend(not_seen_articles)\r\n",
    "            # if we have m recs break\r\n",
    "            if len(recs) >= m:\r\n",
    "                # Sort recomendations collected based on popular articles dictionary\r\n",
    "                recs = sorted(recs, key=lambda v: pop_articles[v])\r\n",
    "                break\r\n",
    "            \r\n",
    "    recs = recs[:m]\r\n",
    "    rec_names = get_article_names(recs)\r\n",
    "    \r\n",
    "    return recs, rec_names"
   ],
   "outputs": [],
   "metadata": {
    "collapsed": true
   }
  },
  {
   "cell_type": "code",
   "execution_count": 45,
   "source": [
    "# Quick spot check - don't change this code - just use it to test your functions\r\n",
    "rec_ids, rec_names = user_user_recs_part2(20, 10)\r\n",
    "print(\"The top 10 recommendations for user 20 are the following article ids:\")\r\n",
    "print(rec_ids)\r\n",
    "print()\r\n",
    "print(\"The top 10 recommendations for user 20 are the following article names:\")\r\n",
    "print(rec_names)"
   ],
   "outputs": [
    {
     "output_type": "stream",
     "name": "stdout",
     "text": [
      "The top 10 recommendations for user 20 are the following article ids:\n",
      "['1330.0', '1427.0', '1364.0', '1170.0', '1162.0', '1304.0', '1351.0', '1160.0', '1354.0', '1368.0']\n",
      "\n",
      "The top 10 recommendations for user 20 are the following article names:\n",
      "['insights from new york car accident reports', 'use xgboost, scikit-learn & ibm watson machine learning apis', 'predicting churn with the spss random tree algorithm', 'apache spark lab, part 1: basic concepts', 'analyze energy consumption in buildings', 'gosales transactions for logistic regression model', 'model bike sharing data with spss', 'analyze accident reports on amazon emr spark', 'movie recommender system with spark machine learning', 'putting a human face on machine learning']\n"
     ]
    }
   ],
   "metadata": {
    "collapsed": true
   }
  },
  {
   "cell_type": "markdown",
   "source": [
    "`5.` Use your functions from above to correctly fill in the solutions to the dictionary below.  Then test your dictionary against the solution.  Provide the code you need to answer each following the comments below."
   ],
   "metadata": {}
  },
  {
   "cell_type": "code",
   "execution_count": 46,
   "source": [
    "### Tests with a dictionary of results\r\n",
    "\r\n",
    "user1_most_sim = get_top_sorted_users(1)[\"neighbor_id\"][0]  # Find the user that is most similar to user 1 \r\n",
    "user131_10th_sim = get_top_sorted_users(131)[\"neighbor_id\"][9] # Find the 10th most similar user to user 131"
   ],
   "outputs": [],
   "metadata": {
    "collapsed": true
   }
  },
  {
   "cell_type": "code",
   "execution_count": 47,
   "source": [
    "## Dictionary Test Here\r\n",
    "sol_5_dict = {\r\n",
    "    'The user that is most similar to user 1.': user1_most_sim, \r\n",
    "    'The user that is the 10th most similar to user 131': user131_10th_sim,\r\n",
    "}\r\n",
    "\r\n",
    "t.sol_5_test(sol_5_dict)"
   ],
   "outputs": [
    {
     "output_type": "stream",
     "name": "stdout",
     "text": [
      "This all looks good!  Nice job!\n"
     ]
    }
   ],
   "metadata": {
    "collapsed": true
   }
  },
  {
   "cell_type": "markdown",
   "source": [
    "`6.` If we were given a new user, which of the above functions would you be able to use to make recommendations?  Explain.  Can you think of a better way we might make recommendations?  Use the cell below to explain a better method for new users."
   ],
   "metadata": {}
  },
  {
   "cell_type": "markdown",
   "source": [
    "This is known as the “cold start problem”. For new users it is impossible to use collaborative filtering methods to make recommendations, because we have no previous interactions with articles. To make recommendations for new users we need to use knowledge-based or rank-based recommendations. In our case **rank-based** recommendations can be made using the function `get_top_article_ids()` that will provide the most popular articles among existing users.\r\n",
    "\r\n",
    "Another approach, rank-based again, may be to get top article interactions from the users that have the most interactions, without considering similarity to the new user: "
   ],
   "metadata": {}
  },
  {
   "cell_type": "code",
   "execution_count": 48,
   "source": [
    "# Find the top 10 most active users, the ones with most article interactions.\r\n",
    "top10_active_users = df.user_id.value_counts()[:10].index.tolist()\r\n",
    "# Filter the dataframe for these users and extract the 10 most popular articles to recommend to a new user.\r\n",
    "df[df.user_id.isin(top10_active_users)][\"article_id\"].value_counts().index[:10].astype(str).tolist()\r\n",
    "# top10_active_users"
   ],
   "outputs": [
    {
     "output_type": "execute_result",
     "data": {
      "text/plain": [
       "['1429.0',\n",
       " '1427.0',\n",
       " '1293.0',\n",
       " '1351.0',\n",
       " '1172.0',\n",
       " '43.0',\n",
       " '1364.0',\n",
       " '1162.0',\n",
       " '29.0',\n",
       " '1276.0']"
      ]
     },
     "metadata": {},
     "execution_count": 48
    }
   ],
   "metadata": {}
  },
  {
   "cell_type": "markdown",
   "source": [
    "`7.` Using your existing functions, provide the top 10 recommended articles you would provide for the a new user below.  You can test your function against our thoughts to make sure we are all on the same page with how we might make a recommendation."
   ],
   "metadata": {}
  },
  {
   "cell_type": "code",
   "execution_count": 49,
   "source": [
    "new_user = '0.0'\r\n",
    "\r\n",
    "# What would your recommendations be for this new user '0.0'?  As a new user, they have no observed articles.\r\n",
    "# Provide a list of the top 10 article ids you would give to \r\n",
    "new_user_recs = get_top_article_ids(10)  # Your recommendations here\r\n",
    "\r\n"
   ],
   "outputs": [],
   "metadata": {
    "collapsed": true
   }
  },
  {
   "cell_type": "code",
   "execution_count": 50,
   "source": [
    "assert set(new_user_recs) == set(['1314.0','1429.0','1293.0','1427.0','1162.0','1364.0','1304.0','1170.0','1431.0','1330.0']), \"Oops!  It makes sense that in this case we would want to recommend the most popular articles, because we don't know anything about these users.\"\r\n",
    "\r\n",
    "print(\"That's right!  Nice job!\")"
   ],
   "outputs": [
    {
     "output_type": "stream",
     "name": "stdout",
     "text": [
      "That's right!  Nice job!\n"
     ]
    }
   ],
   "metadata": {
    "collapsed": true
   }
  },
  {
   "cell_type": "markdown",
   "source": [
    "### <a class=\"anchor\" id=\"Content-Recs\">Part IV: Content Based Recommendations (EXTRA - NOT REQUIRED)</a>\n",
    "\n",
    "Another method we might use to make recommendations is to perform a ranking of the highest ranked articles associated with some term.  You might consider content to be the **doc_body**, **doc_description**, or **doc_full_name**.  There isn't one way to create a content based recommendation, especially considering that each of these columns hold content related information.  \n",
    "\n",
    "`1.` Use the function body below to create a content based recommender.  Since there isn't one right answer for this recommendation tactic, no test functions are provided.  Feel free to change the function inputs if you decide you want to try a method that requires more input values.  The input values are currently set with one idea in mind that you may use to make content based recommendations.  One additional idea is that you might want to choose the most popular recommendations that meet your 'content criteria', but again, there is a lot of flexibility in how you might make these recommendations.\n",
    "\n",
    "### This part is NOT REQUIRED to pass this project.  However, you may choose to take this on as an extra way to show off your skills."
   ],
   "metadata": {}
  },
  {
   "cell_type": "code",
   "execution_count": 51,
   "source": [
    "def make_content_recs():\r\n",
    "    '''\r\n",
    "    INPUT:\r\n",
    "    \r\n",
    "    OUTPUT:\r\n",
    "    \r\n",
    "    '''"
   ],
   "outputs": [],
   "metadata": {
    "collapsed": true
   }
  },
  {
   "cell_type": "markdown",
   "source": [
    "`2.` Now that you have put together your content-based recommendation system, use the cell below to write a summary explaining how your content based recommender works.  Do you see any possible improvements that could be made to your function?  Is there anything novel about your content based recommender?\n",
    "\n",
    "### This part is NOT REQUIRED to pass this project.  However, you may choose to take this on as an extra way to show off your skills."
   ],
   "metadata": {}
  },
  {
   "cell_type": "markdown",
   "source": [
    "**Write an explanation of your content based recommendation system here.**"
   ],
   "metadata": {}
  },
  {
   "cell_type": "markdown",
   "source": [
    "`3.` Use your content-recommendation system to make recommendations for the below scenarios based on the comments.  Again no tests are provided here, because there isn't one right answer that could be used to find these content based recommendations.\n",
    "\n",
    "### This part is NOT REQUIRED to pass this project.  However, you may choose to take this on as an extra way to show off your skills."
   ],
   "metadata": {}
  },
  {
   "cell_type": "code",
   "execution_count": 52,
   "source": [
    "# make recommendations for a brand new user\r\n",
    "\r\n",
    "\r\n",
    "# make a recommendations for a user who only has interacted with article id '1427.0'\r\n",
    "\r\n"
   ],
   "outputs": [],
   "metadata": {
    "collapsed": true
   }
  },
  {
   "cell_type": "markdown",
   "source": [
    "### <a class=\"anchor\" id=\"Matrix-Fact\">Part V: Matrix Factorization</a>\n",
    "\n",
    "In this part of the notebook, you will build use matrix factorization to make article recommendations to the users on the IBM Watson Studio platform.\n",
    "\n",
    "`1.` You should have already created a **user_item** matrix above in **question 1** of **Part III** above.  This first question here will just require that you run the cells to get things set up for the rest of **Part V** of the notebook. "
   ],
   "metadata": {}
  },
  {
   "cell_type": "code",
   "execution_count": 53,
   "source": [
    "# Load the matrix here\r\n",
    "user_item_matrix = pd.read_pickle('user_item_matrix.p')"
   ],
   "outputs": [],
   "metadata": {
    "collapsed": true
   }
  },
  {
   "cell_type": "code",
   "execution_count": 54,
   "source": [
    "# quick look at the matrix\r\n",
    "user_item_matrix.head()"
   ],
   "outputs": [
    {
     "output_type": "execute_result",
     "data": {
      "text/html": [
       "<div>\n",
       "<style scoped>\n",
       "    .dataframe tbody tr th:only-of-type {\n",
       "        vertical-align: middle;\n",
       "    }\n",
       "\n",
       "    .dataframe tbody tr th {\n",
       "        vertical-align: top;\n",
       "    }\n",
       "\n",
       "    .dataframe thead th {\n",
       "        text-align: right;\n",
       "    }\n",
       "</style>\n",
       "<table border=\"1\" class=\"dataframe\">\n",
       "  <thead>\n",
       "    <tr style=\"text-align: right;\">\n",
       "      <th>article_id</th>\n",
       "      <th>0.0</th>\n",
       "      <th>100.0</th>\n",
       "      <th>1000.0</th>\n",
       "      <th>1004.0</th>\n",
       "      <th>1006.0</th>\n",
       "      <th>1008.0</th>\n",
       "      <th>101.0</th>\n",
       "      <th>1014.0</th>\n",
       "      <th>1015.0</th>\n",
       "      <th>1016.0</th>\n",
       "      <th>...</th>\n",
       "      <th>977.0</th>\n",
       "      <th>98.0</th>\n",
       "      <th>981.0</th>\n",
       "      <th>984.0</th>\n",
       "      <th>985.0</th>\n",
       "      <th>986.0</th>\n",
       "      <th>990.0</th>\n",
       "      <th>993.0</th>\n",
       "      <th>996.0</th>\n",
       "      <th>997.0</th>\n",
       "    </tr>\n",
       "    <tr>\n",
       "      <th>user_id</th>\n",
       "      <th></th>\n",
       "      <th></th>\n",
       "      <th></th>\n",
       "      <th></th>\n",
       "      <th></th>\n",
       "      <th></th>\n",
       "      <th></th>\n",
       "      <th></th>\n",
       "      <th></th>\n",
       "      <th></th>\n",
       "      <th></th>\n",
       "      <th></th>\n",
       "      <th></th>\n",
       "      <th></th>\n",
       "      <th></th>\n",
       "      <th></th>\n",
       "      <th></th>\n",
       "      <th></th>\n",
       "      <th></th>\n",
       "      <th></th>\n",
       "      <th></th>\n",
       "    </tr>\n",
       "  </thead>\n",
       "  <tbody>\n",
       "    <tr>\n",
       "      <th>1</th>\n",
       "      <td>0.0</td>\n",
       "      <td>0.0</td>\n",
       "      <td>0.0</td>\n",
       "      <td>0.0</td>\n",
       "      <td>0.0</td>\n",
       "      <td>0.0</td>\n",
       "      <td>0.0</td>\n",
       "      <td>0.0</td>\n",
       "      <td>0.0</td>\n",
       "      <td>0.0</td>\n",
       "      <td>...</td>\n",
       "      <td>0.0</td>\n",
       "      <td>0.0</td>\n",
       "      <td>1.0</td>\n",
       "      <td>0.0</td>\n",
       "      <td>0.0</td>\n",
       "      <td>0.0</td>\n",
       "      <td>0.0</td>\n",
       "      <td>0.0</td>\n",
       "      <td>0.0</td>\n",
       "      <td>0.0</td>\n",
       "    </tr>\n",
       "    <tr>\n",
       "      <th>2</th>\n",
       "      <td>0.0</td>\n",
       "      <td>0.0</td>\n",
       "      <td>0.0</td>\n",
       "      <td>0.0</td>\n",
       "      <td>0.0</td>\n",
       "      <td>0.0</td>\n",
       "      <td>0.0</td>\n",
       "      <td>0.0</td>\n",
       "      <td>0.0</td>\n",
       "      <td>0.0</td>\n",
       "      <td>...</td>\n",
       "      <td>0.0</td>\n",
       "      <td>0.0</td>\n",
       "      <td>0.0</td>\n",
       "      <td>0.0</td>\n",
       "      <td>0.0</td>\n",
       "      <td>0.0</td>\n",
       "      <td>0.0</td>\n",
       "      <td>0.0</td>\n",
       "      <td>0.0</td>\n",
       "      <td>0.0</td>\n",
       "    </tr>\n",
       "    <tr>\n",
       "      <th>3</th>\n",
       "      <td>0.0</td>\n",
       "      <td>0.0</td>\n",
       "      <td>0.0</td>\n",
       "      <td>0.0</td>\n",
       "      <td>0.0</td>\n",
       "      <td>0.0</td>\n",
       "      <td>0.0</td>\n",
       "      <td>0.0</td>\n",
       "      <td>0.0</td>\n",
       "      <td>0.0</td>\n",
       "      <td>...</td>\n",
       "      <td>1.0</td>\n",
       "      <td>0.0</td>\n",
       "      <td>0.0</td>\n",
       "      <td>0.0</td>\n",
       "      <td>0.0</td>\n",
       "      <td>0.0</td>\n",
       "      <td>0.0</td>\n",
       "      <td>0.0</td>\n",
       "      <td>0.0</td>\n",
       "      <td>0.0</td>\n",
       "    </tr>\n",
       "    <tr>\n",
       "      <th>4</th>\n",
       "      <td>0.0</td>\n",
       "      <td>0.0</td>\n",
       "      <td>0.0</td>\n",
       "      <td>0.0</td>\n",
       "      <td>0.0</td>\n",
       "      <td>0.0</td>\n",
       "      <td>0.0</td>\n",
       "      <td>0.0</td>\n",
       "      <td>0.0</td>\n",
       "      <td>0.0</td>\n",
       "      <td>...</td>\n",
       "      <td>0.0</td>\n",
       "      <td>0.0</td>\n",
       "      <td>0.0</td>\n",
       "      <td>0.0</td>\n",
       "      <td>0.0</td>\n",
       "      <td>0.0</td>\n",
       "      <td>0.0</td>\n",
       "      <td>0.0</td>\n",
       "      <td>0.0</td>\n",
       "      <td>0.0</td>\n",
       "    </tr>\n",
       "    <tr>\n",
       "      <th>5</th>\n",
       "      <td>0.0</td>\n",
       "      <td>0.0</td>\n",
       "      <td>0.0</td>\n",
       "      <td>0.0</td>\n",
       "      <td>0.0</td>\n",
       "      <td>0.0</td>\n",
       "      <td>0.0</td>\n",
       "      <td>0.0</td>\n",
       "      <td>0.0</td>\n",
       "      <td>0.0</td>\n",
       "      <td>...</td>\n",
       "      <td>0.0</td>\n",
       "      <td>0.0</td>\n",
       "      <td>0.0</td>\n",
       "      <td>0.0</td>\n",
       "      <td>0.0</td>\n",
       "      <td>0.0</td>\n",
       "      <td>0.0</td>\n",
       "      <td>0.0</td>\n",
       "      <td>0.0</td>\n",
       "      <td>0.0</td>\n",
       "    </tr>\n",
       "  </tbody>\n",
       "</table>\n",
       "<p>5 rows × 714 columns</p>\n",
       "</div>"
      ],
      "text/plain": [
       "article_id  0.0  100.0  1000.0  1004.0  1006.0  1008.0  101.0  1014.0  1015.0  \\\n",
       "user_id                                                                         \n",
       "1           0.0    0.0     0.0     0.0     0.0     0.0    0.0     0.0     0.0   \n",
       "2           0.0    0.0     0.0     0.0     0.0     0.0    0.0     0.0     0.0   \n",
       "3           0.0    0.0     0.0     0.0     0.0     0.0    0.0     0.0     0.0   \n",
       "4           0.0    0.0     0.0     0.0     0.0     0.0    0.0     0.0     0.0   \n",
       "5           0.0    0.0     0.0     0.0     0.0     0.0    0.0     0.0     0.0   \n",
       "\n",
       "article_id  1016.0  ...  977.0  98.0  981.0  984.0  985.0  986.0  990.0  \\\n",
       "user_id             ...                                                   \n",
       "1              0.0  ...    0.0   0.0    1.0    0.0    0.0    0.0    0.0   \n",
       "2              0.0  ...    0.0   0.0    0.0    0.0    0.0    0.0    0.0   \n",
       "3              0.0  ...    1.0   0.0    0.0    0.0    0.0    0.0    0.0   \n",
       "4              0.0  ...    0.0   0.0    0.0    0.0    0.0    0.0    0.0   \n",
       "5              0.0  ...    0.0   0.0    0.0    0.0    0.0    0.0    0.0   \n",
       "\n",
       "article_id  993.0  996.0  997.0  \n",
       "user_id                          \n",
       "1             0.0    0.0    0.0  \n",
       "2             0.0    0.0    0.0  \n",
       "3             0.0    0.0    0.0  \n",
       "4             0.0    0.0    0.0  \n",
       "5             0.0    0.0    0.0  \n",
       "\n",
       "[5 rows x 714 columns]"
      ]
     },
     "metadata": {},
     "execution_count": 54
    }
   ],
   "metadata": {
    "collapsed": true
   }
  },
  {
   "cell_type": "markdown",
   "source": [
    "`2.` In this situation, you can use Singular Value Decomposition from [numpy](https://docs.scipy.org/doc/numpy-1.14.0/reference/generated/numpy.linalg.svd.html) on the user-item matrix.  Use the cell to perfrom SVD, and explain why this is different than in the lesson."
   ],
   "metadata": {}
  },
  {
   "cell_type": "code",
   "execution_count": 55,
   "source": [
    "# Perform SVD on the User-Item Matrix Here\r\n",
    "\r\n",
    "u, s, vt = np.linalg.svd(user_item_matrix)  # use the built in to get the three matrices\r\n",
    "u.shape, s.shape, vt.shape"
   ],
   "outputs": [
    {
     "output_type": "execute_result",
     "data": {
      "text/plain": [
       "((5149, 5149), (714,), (714, 714))"
      ]
     },
     "metadata": {},
     "execution_count": 55
    }
   ],
   "metadata": {
    "collapsed": true
   }
  },
  {
   "cell_type": "markdown",
   "source": [
    "SVD only works when our user item matrix has no missing values. In our case our user item matrix has no NaN's but instead `0.0` has been imputed where users have no interaction with an article. In the lesson there were missing rating values for users, so FunkSVD technique was used that works well for situations where a matrix has a lot of missing values."
   ],
   "metadata": {}
  },
  {
   "cell_type": "markdown",
   "source": [
    "`3.` Now for the tricky part, how do we choose the number of latent features to use?  Running the below cell, you can see that as the number of latent features increases, we obtain a lower error rate on making predictions for the 1 and 0 values in the user-item matrix.  Run the cell below to get an idea of how the accuracy improves as we increase the number of latent features."
   ],
   "metadata": {}
  },
  {
   "cell_type": "code",
   "execution_count": 56,
   "source": [
    "num_latent_feats = np.arange(10,700+10,20)\r\n",
    "sum_errs = []\r\n",
    "\r\n",
    "for k in num_latent_feats:\r\n",
    "    # restructure with k latent features\r\n",
    "    s_new, u_new, vt_new = np.diag(s[:k]), u[:, :k], vt[:k, :]\r\n",
    "    \r\n",
    "    # take dot product\r\n",
    "    user_item_est = np.around(np.dot(np.dot(u_new, s_new), vt_new))\r\n",
    "    \r\n",
    "    # compute error for each prediction to actual value\r\n",
    "    diffs = np.subtract(user_item_matrix, user_item_est)\r\n",
    "    \r\n",
    "    # total errors and keep track of them\r\n",
    "    err = np.sum(np.sum(np.abs(diffs)))\r\n",
    "    sum_errs.append(err)\r\n",
    "    \r\n",
    "    \r\n",
    "plt.plot(num_latent_feats, 1 - np.array(sum_errs)/df.shape[0]);\r\n",
    "plt.xlabel('Number of Latent Features');\r\n",
    "plt.ylabel('Accuracy');\r\n",
    "plt.title('Accuracy vs. Number of Latent Features');"
   ],
   "outputs": [
    {
     "output_type": "display_data",
     "data": {
      "image/png": "[encoded data removed]",
      "text/plain": [
       "<Figure size 432x288 with 1 Axes>"
      ]
     },
     "metadata": {
      "needs_background": "light"
     }
    }
   ],
   "metadata": {
    "collapsed": true
   }
  },
  {
   "cell_type": "markdown",
   "source": [
    "`4.` From the above, we can't really be sure how many features to use, because simply having a better way to predict the 1's and 0's of the matrix doesn't exactly give us an indication of if we are able to make good recommendations.  Instead, we might split our dataset into a training and test set of data, as shown in the cell below.  \n",
    "\n",
    "Use the code from question 3 to understand the impact on accuracy of the training and test sets of data with different numbers of latent features. Using the split below: \n",
    "\n",
    "* How many users can we make predictions for in the test set?  \n",
    "* How many users are we not able to make predictions for because of the cold start problem?\n",
    "* How many articles can we make predictions for in the test set?  \n",
    "* How many articles are we not able to make predictions for because of the cold start problem?"
   ],
   "metadata": {}
  },
  {
   "cell_type": "code",
   "execution_count": 123,
   "source": [
    "df_train = df.head(40000)\r\n",
    "df_test = df.tail(5993)\r\n",
    "\r\n",
    "def create_test_and_train_user_item(df_train, df_test):\r\n",
    "    '''\r\n",
    "    INPUT:\r\n",
    "    df_train - training dataframe\r\n",
    "    df_test - test dataframe\r\n",
    "    \r\n",
    "    OUTPUT:\r\n",
    "    user_item_train - a user-item matrix of the training dataframe \r\n",
    "                      (unique users for each row and unique articles for each column)\r\n",
    "    user_item_test - a user-item matrix of the testing dataframe \r\n",
    "                    (unique users for each row and unique articles for each column)\r\n",
    "    test_idx - all of the test user ids\r\n",
    "    test_arts - all of the test article ids\r\n",
    "    \r\n",
    "    '''\r\n",
    "    user_item_train = create_user_item_matrix(df_train)\r\n",
    "    user_item_test = create_user_item_matrix(df_test)\r\n",
    "\r\n",
    "    test_idx = user_item_test.index.values\r\n",
    "    test_arts = user_item_test.columns.values\r\n",
    "    \r\n",
    "    return user_item_train, user_item_test, test_idx, test_arts\r\n",
    "\r\n",
    "user_item_train, user_item_test, test_idx, test_arts = create_test_and_train_user_item(df_train, df_test)"
   ],
   "outputs": [],
   "metadata": {
    "collapsed": true
   }
  },
  {
   "cell_type": "code",
   "execution_count": 124,
   "source": [
    "user_item_train.shape, user_item_test.shape"
   ],
   "outputs": [
    {
     "output_type": "execute_result",
     "data": {
      "text/plain": [
       "((4487, 714), (682, 574))"
      ]
     },
     "metadata": {},
     "execution_count": 124
    }
   ],
   "metadata": {}
  },
  {
   "cell_type": "markdown",
   "source": [
    "### Number of users we can make predictions for in the test set"
   ],
   "metadata": {}
  },
  {
   "cell_type": "code",
   "execution_count": 120,
   "source": [
    "# This will be the intersection of user_item_train.index and user_item_test.index, as we can provide predictions on known users.\r\n",
    "known_users = np.intersect1d(user_item_train.index.values, user_item_test.index.values)\r\n",
    "len(known_users)"
   ],
   "outputs": [
    {
     "output_type": "execute_result",
     "data": {
      "text/plain": [
       "20"
      ]
     },
     "metadata": {},
     "execution_count": 120
    }
   ],
   "metadata": {}
  },
  {
   "cell_type": "markdown",
   "source": [
    "### Number of users in the test set we are not able to make predictions for because of the cold start problem"
   ],
   "metadata": {}
  },
  {
   "cell_type": "code",
   "execution_count": 97,
   "source": [
    "# This will be the remaining users in the user_item_test dataframe:\r\n",
    "user_item_test.shape[0] - len(known_users)"
   ],
   "outputs": [
    {
     "output_type": "execute_result",
     "data": {
      "text/plain": [
       "662"
      ]
     },
     "metadata": {},
     "execution_count": 97
    }
   ],
   "metadata": {}
  },
  {
   "cell_type": "markdown",
   "source": [
    "### Number of articles can we make predictions for in the test set"
   ],
   "metadata": {}
  },
  {
   "cell_type": "code",
   "execution_count": 122,
   "source": [
    "# This will be the intersection of user_item_train.columns and user_item_test.columns, as we can provide predictions on known articles.\r\n",
    "known_articles = np.intersect1d(user_item_train.columns.values, user_item_test.columns.values)\r\n",
    "len(known_articles)"
   ],
   "outputs": [
    {
     "output_type": "execute_result",
     "data": {
      "text/plain": [
       "574"
      ]
     },
     "metadata": {},
     "execution_count": 122
    }
   ],
   "metadata": {}
  },
  {
   "cell_type": "markdown",
   "source": [
    "### Number of articles in the test set are we not able to make predictions for because of the cold start problem"
   ],
   "metadata": {}
  },
  {
   "cell_type": "code",
   "execution_count": 99,
   "source": [
    "# This will be the remaining articles in the user_item_test dataframe:\r\n",
    "user_item_test.shape[1] - len(known_articles)"
   ],
   "outputs": [
    {
     "output_type": "execute_result",
     "data": {
      "text/plain": [
       "0"
      ]
     },
     "metadata": {},
     "execution_count": 99
    }
   ],
   "metadata": {}
  },
  {
   "cell_type": "code",
   "execution_count": 62,
   "source": [
    "# Replace the values in the dictionary below\r\n",
    "a = 662 \r\n",
    "b = 574 \r\n",
    "c = 20 \r\n",
    "d = 0 \r\n",
    "\r\n",
    "\r\n",
    "sol_4_dict = {\r\n",
    "    'How many users can we make predictions for in the test set?': c, \r\n",
    "    'How many users in the test set are we not able to make predictions for because of the cold start problem?': a, \r\n",
    "    'How many articles can we make predictions for in the test set?': b,\r\n",
    "    'How many articles in the test set are we not able to make predictions for because of the cold start problem?': d\r\n",
    "}\r\n",
    "\r\n",
    "t.sol_4_test(sol_4_dict)"
   ],
   "outputs": [
    {
     "output_type": "stream",
     "name": "stdout",
     "text": [
      "Awesome job!  That's right!  All of the test articles are in the training data, but there are only 20 test users that were also in the training set.  All of the other users that are in the test set we have no data on.  Therefore, we cannot make predictions for these users using SVD.\n"
     ]
    }
   ],
   "metadata": {
    "collapsed": true
   }
  },
  {
   "cell_type": "markdown",
   "source": [
    "`5.` Now use the **user_item_train** dataset from above to find **U**, **S**, and **V** transpose using SVD. Then find the subset of rows in the **user_item_test** dataset that you can predict using this matrix decomposition with different numbers of latent features to see how many features makes sense to keep based on the accuracy on the test data. This will require combining what was done in questions `2` - `4`.\n",
    "\n",
    "Use the cells below to explore how well SVD works towards making predictions for recommendations on the test data.  "
   ],
   "metadata": {}
  },
  {
   "cell_type": "code",
   "execution_count": 63,
   "source": [
    "# fit SVD on the user_item_train matrix\r\n",
    "u_train, s_train, vt_train = np.linalg.svd(user_item_train)  # fit svd similar to above then use the cells below\r\n",
    "u_train.shape, s_train.shape, vt_train.shape"
   ],
   "outputs": [
    {
     "output_type": "execute_result",
     "data": {
      "text/plain": [
       "((4487, 4487), (714,), (714, 714))"
      ]
     },
     "metadata": {},
     "execution_count": 63
    }
   ],
   "metadata": {
    "collapsed": true
   }
  },
  {
   "cell_type": "markdown",
   "source": [
    "\r\n",
    " 1. The u matrix is a square matrix with the number of rows and columns equaling the number of users. \r\n",
    " 2. The sigma matrix is returned as an array with 714 values.\r\n",
    " 3. The v transpose matrix is also a square matrix with the number of rows and columns equaling the number of articles.\r\n"
   ],
   "metadata": {}
  },
  {
   "cell_type": "code",
   "execution_count": 64,
   "source": [
    "# Use these cells to see how well you can use the training \r\n",
    "# decomposition to predict on test data"
   ],
   "outputs": [],
   "metadata": {
    "collapsed": true
   }
  },
  {
   "cell_type": "markdown",
   "source": [
    "We need to find the common indices of articles in train and test datasets:"
   ],
   "metadata": {}
  },
  {
   "cell_type": "code",
   "execution_count": 174,
   "source": [
    "known_articles_idx = np.where(np.isin(user_item_train.columns.values, known_articles))[0]\r\n",
    "known_articles_idx.shape"
   ],
   "outputs": [
    {
     "output_type": "execute_result",
     "data": {
      "text/plain": [
       "(574,)"
      ]
     },
     "metadata": {},
     "execution_count": 174
    }
   ],
   "metadata": {}
  },
  {
   "cell_type": "markdown",
   "source": [
    "Then we create U, V matricies for the test dataset:"
   ],
   "metadata": {}
  },
  {
   "cell_type": "code",
   "execution_count": 178,
   "source": [
    "u_test = u_train[known_users - 1, :]\r\n",
    "vt_test = vt_train[:, known_articles_idx]\r\n",
    "u_test.shape, vt_test.shape"
   ],
   "outputs": [
    {
     "output_type": "execute_result",
     "data": {
      "text/plain": [
       "((20, 4487), (714, 574))"
      ]
     },
     "metadata": {},
     "execution_count": 178
    }
   ],
   "metadata": {}
  },
  {
   "cell_type": "markdown",
   "source": [
    "Create the `user_item_test_mat` with actual values:"
   ],
   "metadata": {}
  },
  {
   "cell_type": "code",
   "execution_count": 180,
   "source": [
    "user_item_test_mat = user_item_test.loc[known_users]\r\n",
    "user_item_test_mat.shape, user_item_test.shape"
   ],
   "outputs": [
    {
     "output_type": "execute_result",
     "data": {
      "text/plain": [
       "((20, 574), (682, 574))"
      ]
     },
     "metadata": {},
     "execution_count": 180
    }
   ],
   "metadata": {}
  },
  {
   "cell_type": "markdown",
   "source": [
    "We can now make predictions for `user_item_test` based on `user_item_train` dataset for the common users (20 ids). Then we will compute the errors for each prediction to actual values and compare errors between the train and test datasets: "
   ],
   "metadata": {}
  },
  {
   "cell_type": "code",
   "execution_count": 187,
   "source": [
    "num_latent_feats = np.arange(10,700+10,20)\r\n",
    "sum_errs_train = []\r\n",
    "sum_errs_test = []\r\n",
    "\r\n",
    "for k in num_latent_feats:\r\n",
    "    # [ TRAIN set ]\r\n",
    "    # restructure with k latent features\r\n",
    "    s_new, u_new, vt_new = np.diag(s_train[:k]), u_train[:, :k], vt_train[:k, :]\r\n",
    "    \r\n",
    "    # take dot product to make predictions\r\n",
    "    user_item_est = np.around(np.dot(np.dot(u_new, s_new), vt_new))\r\n",
    "    \r\n",
    "    # compute error for each prediction to actual value\r\n",
    "    diffs = np.subtract(user_item_train, user_item_est)\r\n",
    "    \r\n",
    "    # total errors and keep track of them\r\n",
    "    err = np.sum(np.sum(np.abs(diffs)))\r\n",
    "    sum_errs_train.append(err)\r\n",
    "\r\n",
    "    # [ TEST set ]\r\n",
    "    # restructure with k latent features\r\n",
    "    u_new, vt_new = u_test[:, :k], vt_test[:k, :]\r\n",
    "    \r\n",
    "    # take dot product to make predictions\r\n",
    "    user_item_est = np.around(np.dot(np.dot(u_new, s_new), vt_new))\r\n",
    "    \r\n",
    "    # compute error for each prediction to actual value\r\n",
    "    diffs = np.subtract(user_item_test_mat, user_item_est)\r\n",
    "    \r\n",
    "    # total errors and keep track of them\r\n",
    "    err = np.sum(np.sum(np.abs(diffs)))\r\n",
    "    sum_errs_test.append(err)\r\n",
    "\r\n",
    "len(sum_errs_train), len(sum_errs_test)"
   ],
   "outputs": [
    {
     "output_type": "execute_result",
     "data": {
      "text/plain": [
       "(35, 35)"
      ]
     },
     "metadata": {},
     "execution_count": 187
    }
   ],
   "metadata": {
    "collapsed": true
   }
  },
  {
   "cell_type": "code",
   "execution_count": 188,
   "source": [
    "# Plot the resutls\r\n",
    "plt.rcParams[\"figure.figsize\"] = (10,7)\r\n",
    "plt.plot(num_latent_feats, 1 - np.array(sum_errs_train)/user_item_train.size, label='train');\r\n",
    "plt.plot(num_latent_feats, 1 - np.array(sum_errs_test)/user_item_test_mat.size, label='test');\r\n",
    "plt.legend(loc='best');\r\n",
    "plt.xlabel('Number of Latent Features');\r\n",
    "plt.ylabel('Accuracy');\r\n",
    "plt.title('Accuracy vs. Number of Latent Features');"
   ],
   "outputs": [
    {
     "output_type": "display_data",
     "data": {
      "image/png": "[encoded data removed]",
      "text/plain": [
       "<Figure size 720x504 with 1 Axes>"
      ]
     },
     "metadata": {
      "needs_background": "light"
     }
    }
   ],
   "metadata": {
    "collapsed": true
   }
  },
  {
   "cell_type": "markdown",
   "source": [
    "`6.` Use the cell below to comment on the results you found in the previous question. Given the circumstances of your results, discuss what you might do to determine if the recommendations you make with any of the above recommendation systems are an improvement to how users currently find articles? "
   ],
   "metadata": {
    "collapsed": true
   }
  },
  {
   "cell_type": "markdown",
   "source": [
    "Train and test datasets have only 20 users in common that we can use to make predictions and test our model. This is usually considered a small number of users to draw meaningful conclusions. We can observe that accuracy in the test dataset decreases as the number of latent features (k) increases, starting close to 98% for a few latent features and stabilizing to around 96.5% for 400 – 700 latent features. This is reversely proportional to what happens with accuracy in the training data.\r\n",
    "\r\n",
    "Looking at the training dataset results we observe that accuracy is extremely high (above 99%) even for a few latent features. This points to a known problem with matrix factorization with SVD, usually mentioned as overfitting. This becomes even worse for high numbers of latent features. For `k = 10` latent features there are `Ik + Uk` (`I` for items, `U` for users) parameters to estimate, i.e. `1051*10 + 5148*10 = 61990`. These need to be estimated from the `40000` training examples which are much less. To avoid this in practice regularization is used with gradient descent technique.\r\n",
    "\r\n",
    "Nevertheless, given the circumstances, to determine if the recommendations we make with any of the above recommendation systems are an improvement to how users currently find articles, we could propose an experiment. This could be in the form of an A/B/C test with a control group and two experimental groups representing the rank-based recommendations and SVD-based recommendations. We could ask users to provide feedback on the recommended articles in the form of like/dislike. We could also measure the total number of article interactions for each user and the ranking of articles for each group. Sampling would also require consideration and planning for the number of total samples required and the proportions among the three groups.\r\n"
   ],
   "metadata": {}
  },
  {
   "cell_type": "markdown",
   "source": [
    "<a id='conclusions'></a>\n",
    "### Extras\n",
    "Using your workbook, you could now save your recommendations for each user, develop a class to make new predictions and update your results, and make a flask app to deploy your results.  These tasks are beyond what is required for this project.  However, from what you learned in the lessons, you certainly capable of taking these tasks on to improve upon your work here!\n",
    "\n",
    "\n",
    "## Conclusion\n",
    "\n",
    "> Congratulations!  You have reached the end of the Recommendations with IBM project! \n",
    "\n",
    "> **Tip**: Once you are satisfied with your work here, check over your report to make sure that it is satisfies all the areas of the rubric (found on the project submission page at the end of the lesson). You should also probably remove all of the \"Tips\" like this one so that the presentation is as polished as possible.\n",
    "\n",
    "\n",
    "## Directions to Submit\n",
    "\n",
    "> Before you submit your project, you need to create a .html or .pdf version of this notebook in the workspace here. To do that, run the code cell below. If it worked correctly, you should get a return code of 0, and you should see the generated .html file in the workspace directory (click on the orange Jupyter icon in the upper left).\n",
    "\n",
    "> Alternatively, you can download this report as .html via the **File** > **Download as** submenu, and then manually upload it into the workspace directory by clicking on the orange Jupyter icon in the upper left, then using the Upload button.\n",
    "\n",
    "> Once you've done this, you can submit your project by clicking on the \"Submit Project\" button in the lower right here. This will create and submit a zip file with this .ipynb doc and the .html or .pdf version you created. Congratulations! "
   ],
   "metadata": {
    "collapsed": true
   }
  },
  {
   "cell_type": "code",
   "execution_count": 3,
   "source": [
    "from subprocess import call\r\n",
    "call(['python', '-m', 'nbconvert', '--to', 'html', 'Recommendations_with_IBM.ipynb'])"
   ],
   "outputs": [
    {
     "output_type": "execute_result",
     "data": {
      "text/plain": [
       "0"
      ]
     },
     "metadata": {},
     "execution_count": 3
    }
   ],
   "metadata": {
    "collapsed": true
   }
  },
  {
   "cell_type": "code",
   "execution_count": null,
   "source": [],
   "outputs": [],
   "metadata": {}
  }
 ],
 "metadata": {
  "kernelspec": {
   "name": "python3",
   "display_name": "Python 3.8.10 64-bit ('dsenv': conda)"
  },
  "language_info": {
   "codemirror_mode": {
    "name": "ipython",
    "version": 3
   },
   "file_extension": ".py",
   "mimetype": "text/x-python",
   "name": "python",
   "nbconvert_exporter": "python",
   "pygments_lexer": "ipython3",
   "version": "3.8.10"
  },
  "interpreter": {
   "hash": "a7e01aac2c9bcb8fe1e7851228a633d1435a51d01cb4372225780e1a41da0658"
  }
 },
 "nbformat": 4,
 "nbformat_minor": 2
}